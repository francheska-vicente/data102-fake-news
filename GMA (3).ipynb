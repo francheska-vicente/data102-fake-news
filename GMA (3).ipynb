{
 "cells": [
  {
   "cell_type": "code",
   "execution_count": 1,
   "id": "f659852c",
   "metadata": {},
   "outputs": [],
   "source": [
    "from bs4 import BeautifulSoup\n",
    "import requests\n",
    "\n",
    "from selenium import webdriver\n",
    "from selenium.webdriver.common.keys import Keys\n",
    "from selenium.webdriver.common.by import By\n",
    "\n",
    "import time\n",
    "import pandas as pd\n",
    "import numpy as np"
   ]
  },
  {
   "cell_type": "code",
   "execution_count": 2,
   "id": "7fafaa4b",
   "metadata": {},
   "outputs": [],
   "source": [
    "driver_path=\"/Users/beatricebanzon/Desktop/dlsu/col/2/T3 22.23/DATA102/chromedriver_mac_arm64/chromedriver.exe\"\n",
    "counter = 1\n",
    "pause = 5\n",
    "master = []\n",
    "checker = True"
   ]
  },
  {
   "cell_type": "code",
   "execution_count": 10,
   "id": "d759ba81",
   "metadata": {
    "collapsed": true
   },
   "outputs": [
    {
     "name": "stdout",
     "output_type": "stream",
     "text": [
      "Scraping https://www.gmanetwork.com/news/archives/topstories/3/\n"
     ]
    },
    {
     "name": "stderr",
     "output_type": "stream",
     "text": [
      "/var/folders/j8/_c_8d2dj6jqgrrq7t6t4pz3w0000gn/T/ipykernel_59454/3005257669.py:4: DeprecationWarning: executable_path has been deprecated, please pass in a Service object\n",
      "  driver=webdriver.Chrome(driver_path)\n"
     ]
    },
    {
     "name": "stdout",
     "output_type": "stream",
     "text": [
      "Scraping https://www.gmanetwork.com/news/archives/topstories/4/\n",
      "Scraping https://www.gmanetwork.com/news/archives/topstories/5/\n",
      "Scraping https://www.gmanetwork.com/news/archives/topstories/6/\n"
     ]
    },
    {
     "ename": "KeyboardInterrupt",
     "evalue": "",
     "output_type": "error",
     "traceback": [
      "\u001b[0;31m---------------------------------------------------------------------------\u001b[0m",
      "\u001b[0;31mKeyboardInterrupt\u001b[0m                         Traceback (most recent call last)",
      "Input \u001b[0;32mIn [10]\u001b[0m, in \u001b[0;36m<cell line: 1>\u001b[0;34m()\u001b[0m\n\u001b[1;32m     12\u001b[0m     link \u001b[38;5;241m=\u001b[39m each\u001b[38;5;241m.\u001b[39mget_attribute(\u001b[38;5;124m\"\u001b[39m\u001b[38;5;124mhref\u001b[39m\u001b[38;5;124m\"\u001b[39m)\n\u001b[1;32m     13\u001b[0m     master\u001b[38;5;241m.\u001b[39mappend(link)\n\u001b[0;32m---> 15\u001b[0m \u001b[43mtime\u001b[49m\u001b[38;5;241;43m.\u001b[39;49m\u001b[43msleep\u001b[49m\u001b[43m(\u001b[49m\u001b[43mpause\u001b[49m\u001b[43m)\u001b[49m\n\u001b[1;32m     16\u001b[0m counter\u001b[38;5;241m+\u001b[39m\u001b[38;5;241m=\u001b[39m\u001b[38;5;241m1\u001b[39m\n\u001b[1;32m     18\u001b[0m \u001b[38;5;28;01mif\u001b[39;00m counter\u001b[38;5;241m==\u001b[39m\u001b[38;5;241m101\u001b[39m:\n",
      "\u001b[0;31mKeyboardInterrupt\u001b[0m: "
     ]
    }
   ],
   "source": [
    "while checker:\n",
    "    url=f\"https://www.gmanetwork.com/news/archives/topstories/{counter}/\"\n",
    "    print ('Scraping', url)\n",
    "    driver=webdriver.Chrome(driver_path)\n",
    "    driver.get(url)\n",
    "    \n",
    "    time.sleep(pause)\n",
    "    \n",
    "    temp = driver.find_elements(By.XPATH, '//ul[@id=\"grid_thumbnail_stories\"]')\n",
    "\n",
    "    for each in temp[0].find_elements(By.XPATH, '//a[@class=\"story_link story\"]'):\n",
    "        link = each.get_attribute(\"href\")\n",
    "        if link not in master:\n",
    "            master.append(link)\n",
    "   \n",
    "    driver.execute_script(\"window.scrollTo(0, document.body.scrollHeight);\") #wont scroll\n",
    "    time.sleep(5)\n",
    "    \n",
    "    counter+=1\n",
    "    \n",
    "    if counter==101:\n",
    "        break"
   ]
  },
  {
   "cell_type": "code",
   "execution_count": 15,
   "id": "56c30d80",
   "metadata": {},
   "outputs": [],
   "source": [
    "pause = 10 \n",
    "gma_df = pd.DataFrame(columns=['Link', 'Paragraph'])"
   ]
  },
  {
   "cell_type": "code",
   "execution_count": null,
   "id": "9298b02e",
   "metadata": {},
   "outputs": [],
   "source": [
    "for link in master:\n",
    "    print ('Scraping ', link)\n",
    "    driver=webdriver.Chrome(driver_path)\n",
    "    driver.get(link)\n",
    "    \n",
    "    time.sleep (pause)\n",
    "    \n",
    "    checker = True\n",
    "    paragraphs = []  \n",
    "    while checker: \n",
    "        content = driver.find_element(By.XPATH, '//div[@class=\"story_main\"]')\n",
    "        pars = content.find_elements(By.XPATH, 'p')\n",
    "        for par in pars:\n",
    "            text = par.text.strip()\n",
    "            if text:\n",
    "                paragraphs.append(text)\n",
    "        concat_pars = ' '.join(paragraphs)\n",
    "        checker = False #is this right\n",
    "    gma_df = gma_df.append({'Link': link, 'Paragraph': concat_pars}, ignore_index=True)"
   ]
  },
  {
   "cell_type": "markdown",
   "id": "f0710514",
   "metadata": {},
   "source": [
    "# TRY"
   ]
  },
  {
   "cell_type": "code",
   "execution_count": 30,
   "id": "f121a47a",
   "metadata": {
    "scrolled": true
   },
   "outputs": [
    {
     "name": "stderr",
     "output_type": "stream",
     "text": [
      "/var/folders/j8/_c_8d2dj6jqgrrq7t6t4pz3w0000gn/T/ipykernel_60757/2797491219.py:1: DeprecationWarning: executable_path has been deprecated, please pass in a Service object\n",
      "  driver=webdriver.Chrome(driver_path)\n"
     ]
    }
   ],
   "source": [
    "driver=webdriver.Chrome(driver_path)\n",
    "driver.get('https://www.gmanetwork.com/news/topstories/regions/875697/bacolod-silay-airport-janitor-returns-lost-wallet-with-p25k-cash-to-owner/story/')"
   ]
  },
  {
   "cell_type": "code",
   "execution_count": 31,
   "id": "6100551e",
   "metadata": {},
   "outputs": [],
   "source": [
    "checker = True\n",
    "paragraphs = []  \n",
    "while checker: \n",
    "    content = driver.find_element(By.XPATH, '//div[@class=\"story_main\"]')\n",
    "    pars = content.find_elements(By.XPATH, 'p')       \n",
    "    for par in pars:\n",
    "        text = par.text.strip()\n",
    "        if text:\n",
    "            paragraphs.append(text)\n",
    "    concat_pars = ' '.join(paragraphs)\n",
    "    checker = False"
   ]
  },
  {
   "cell_type": "code",
   "execution_count": 32,
   "id": "05205273",
   "metadata": {
    "scrolled": true
   },
   "outputs": [
    {
     "data": {
      "text/plain": [
       "\"A janitorial staff at the Bacolod-Silay Airport on Wednesday returned a lost brown wallet containing almost P25,000 worth of cash after the owner left it in the arrival waiting area. The airport personnel, identified as Rick John Conlu, found the wallet on a communal gang chair in the waiting area at 10:50 a.m., then handed it over to an officer on duty around 11:20 a.m., according to the Civil Aviation Authority of the Philippines (CAAP). The wallet was itemized and found containing valuable belongings, including a driver's license, P9,000, and US$300. The owner, Alexander Arnaiz Cadanay, was able to reclaim his lost wallet at the Bacolod-Silay Airport Terminal’s Operation Office. CAAP Bacolod-Silay Airport Acting Manager Roel Aranzado commended Conlu for the deed, saying that it shows the agency’s commitment to integrity and fosters a trustworthy and safe environment for the airport’s passengers and visitors. — Giselle Ombay/RSJ, GMA Integrated News\""
      ]
     },
     "execution_count": 32,
     "metadata": {},
     "output_type": "execute_result"
    }
   ],
   "source": [
    "concat_pars"
   ]
  },
  {
   "cell_type": "code",
   "execution_count": null,
   "id": "a76ffdc1",
   "metadata": {},
   "outputs": [],
   "source": []
  }
 ],
 "metadata": {
  "kernelspec": {
   "display_name": "Python 3 (ipykernel)",
   "language": "python",
   "name": "python3"
  },
  "language_info": {
   "codemirror_mode": {
    "name": "ipython",
    "version": 3
   },
   "file_extension": ".py",
   "mimetype": "text/x-python",
   "name": "python",
   "nbconvert_exporter": "python",
   "pygments_lexer": "ipython3",
   "version": "3.9.12"
  }
 },
 "nbformat": 4,
 "nbformat_minor": 5
}
