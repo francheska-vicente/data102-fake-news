{
 "cells": [
  {
   "cell_type": "markdown",
   "metadata": {},
   "source": [
    "# **Data Collection Part 2**: Web Scraping <u>Fake News</u>\n",
    "\n",
    "This notebook demonstrates the first part of this project's data collection which is web scraping fake news from news sites in the Philippines. \n",
    "\n",
    "The **news sites involved** in collecting real news are the following: \n",
    "1. [`Ako'y Pilipino`](https://www.gmanetwork.com/news/topstories/)\n",
    "2. [`Maharlika News`](https://www.rappler.com/)"
   ]
  },
  {
   "cell_type": "markdown",
   "metadata": {},
   "source": [
    "# Importing Libraries\n",
    "To start, we will be importing libraries that would help us perform web scraping and data processing properly.\n",
    "\n",
    "## Basic Libraries\n",
    "*  [`requests`](https://pypi.org/project/requests/): has functions for HTTP requests \n",
    "> allows us to make requests to a web page and access its contents\n",
    "\n",
    "*   [`pandas`](https://pandas.pydata.org/) : has functions for data analysis and manipulation\n",
    "> this allows us to obtain and organize all scraped data in a format that can be used for Exploratory Data Analysis (EDA) and for creating a model for fake news detection"
   ]
  },
  {
   "cell_type": "code",
   "execution_count": 2,
   "metadata": {},
   "outputs": [],
   "source": [
    "import requests\n",
    "import pandas as pd"
   ]
  },
  {
   "cell_type": "markdown",
   "metadata": {},
   "source": [
    "## Web Scraping Library: [`BeautifulSoup`](https://www.crummy.com/software/BeautifulSoup/bs4/doc/)\n",
    "\n",
    "> The [`BeautifulSoup`](https://www.crummy.com/software/BeautifulSoup/bs4/doc/) library will be used for web scraping fake news from Ako'y Filipino and Maharlika News since we will only be scraping 1 page at a time on both sites."
   ]
  },
  {
   "cell_type": "code",
   "execution_count": 3,
   "metadata": {},
   "outputs": [],
   "source": [
    "from bs4 import BeautifulSoup"
   ]
  },
  {
   "cell_type": "markdown",
   "metadata": {},
   "source": [
    "# Web Scraping Fake News Sites"
   ]
  },
  {
   "cell_type": "markdown",
   "metadata": {},
   "source": [
    "## Web Scraping Ako'y Pilipino Articles"
   ]
  },
  {
   "cell_type": "code",
   "execution_count": 71,
   "metadata": {
    "tags": []
   },
   "outputs": [],
   "source": [
    "# This Web Scraper makes use of BeautifulSoup to display various information about fake news articles from \"akoy-pilipino.blogspot.com\".\n",
    "\n",
    "def web_scrape_akoy_pilipino(url):\n",
    "    # Send a GET request to the website\n",
    "    response = requests.get(url)\n",
    "\n",
    "    # Create a BeautifulSoup object to parse the HTML content\n",
    "    soup = BeautifulSoup(response.text, \"html.parser\")\n",
    "\n",
    "    # Find the HTML elements that contain the fake news articles\n",
    "    articles = soup.find_all(\"article\")\n",
    "\n",
    "    # Create empty lists to store the data\n",
    "    titles = []\n",
    "    times = []\n",
    "    authors = []\n",
    "    contents = []\n",
    "\n",
    "    # Extract information from each article\n",
    "    for article in articles:\n",
    "        # Get the title of the article\n",
    "        title = article.find('h2', class_='post-title entry-title')\n",
    "        title = title.find('a', class_='').text.strip()\n",
    "        titles.append(title)\n",
    "\n",
    "        # Get the publication date of the article\n",
    "        time = article.find('div', id='meta-post').text.strip()\n",
    "        times.append(time)\n",
    "\n",
    "        # Get the preview description of the article\n",
    "        content = article.find('div', class_='entry').text.strip()\n",
    "        contents.append(content)\n",
    "\n",
    "\n",
    "    # Create a DataFrame to store the data\n",
    "    data = pd.DataFrame({\n",
    "        'Title': titles,\n",
    "        'Date Posted': times,\n",
    "        'Content': contents\n",
    "    })\n",
    "\n",
    "    # Print the data\n",
    "    print(data)\n",
    "    \n",
    "    return data"
   ]
  },
  {
   "cell_type": "code",
   "execution_count": null,
   "metadata": {
    "tags": []
   },
   "outputs": [],
   "source": [
    "# URL of the website you want to scrape\n",
    "url = 'http://akoy-pilipino.blogspot.com/search/label/Local%20News'\n",
    "\n",
    "data_ap = web_scrape_akoy_pilipino(url)"
   ]
  },
  {
   "cell_type": "code",
   "execution_count": null,
   "metadata": {
    "id": "9kJ_OxIk83nU",
    "tags": []
   },
   "outputs": [],
   "source": [
    "# URL of the website you want to scrape\n",
    "url = 'http://akoy-pilipino.blogspot.com/search/label/International%20News'\n",
    "\n",
    "data_ap_2 = web_scrape_akoy_pilipino(url)"
   ]
  },
  {
   "cell_type": "markdown",
   "metadata": {},
   "source": [
    "## Web Scraping Maharlika News Articles"
   ]
  },
  {
   "cell_type": "code",
   "execution_count": 66,
   "metadata": {},
   "outputs": [],
   "source": [
    "# This Web Scraper makes use of BeautifulSoup to display various information about fake news articles from \"https://www.maharlikanews.com/\".\n",
    "def web_scrape_maharlika_news(url):\n",
    "    # Send a GET request to the website\n",
    "    response = requests.get(url)\n",
    "\n",
    "    # Create a BeautifulSoup object to parse the HTML content\n",
    "    soup = BeautifulSoup(response.text, \"html.parser\")\n",
    "\n",
    "    # Find the HTML elements that contain the fake news articles\n",
    "    articles = soup.find_all(\"article\")\n",
    "    \n",
    "    # Create empty lists to store the data\n",
    "    titles = []\n",
    "    times = []\n",
    "    authors = []\n",
    "    contents = []\n",
    "    \n",
    "    # Extract information from each article\n",
    "    for article in articles:\n",
    "        # Get the title of the article\n",
    "        title = article.find('h2', class_='post-box-title').text.strip()\n",
    "        titles.append(title)\n",
    "\n",
    "        # Get the publication date of the article\n",
    "        time = article.find('p', class_='post-meta').text.strip()\n",
    "        times.append(time)\n",
    "\n",
    "        # Get the preview description of the article\n",
    "        content = article.find('div', class_='entry').text.strip()\n",
    "        contents.append(content)\n",
    "\n",
    "    # Create a DataFrame to store the data\n",
    "    data = pd.DataFrame({\n",
    "        'Title': titles,\n",
    "        'Date Posted': times,\n",
    "        'Content': contents\n",
    "    })\n",
    "\n",
    "    # Print the data\n",
    "    print(data)\n",
    "    \n",
    "    return data"
   ]
  },
  {
   "cell_type": "code",
   "execution_count": 67,
   "metadata": {
    "colab": {
     "base_uri": "https://localhost:8080/"
    },
    "id": "xN-ITmKG3mdG",
    "outputId": "b5ee5a12-f4cf-427c-db6b-c0a6e1a8ea04",
    "tags": []
   },
   "outputs": [
    {
     "name": "stdout",
     "output_type": "stream",
     "text": [
      "                                               Title  \\\n",
      "0  Striking Metro grocery store worker says she ‘...   \n",
      "1  Unemployment inches up to 5.5% in July with sp...   \n",
      "2  Telus slashing 6,000 jobs amid drop in 2nd qua...   \n",
      "3  Your latest questions about Bill C-18 and the ...   \n",
      "4  Stock markets slump as rating agency Fitch dow...   \n",
      "5  National Bank buys Silicon Valley Bank’s Canad...   \n",
      "6  Tupperware warned it might go bust — but its s...   \n",
      "7  Meta permanently ending news availability on i...   \n",
      "8  ‘Barbenheimer’ made this July the best one eve...   \n",
      "9  These Canadian companies switched to a 4-day w...   \n",
      "\n",
      "                  Date Posted  \\\n",
      "0  2 days ago\\nBusiness World   \n",
      "1  2 days ago\\nBusiness World   \n",
      "2  2 days ago\\nBusiness World   \n",
      "3  3 days ago\\nBusiness World   \n",
      "4  4 days ago\\nBusiness World   \n",
      "5  4 days ago\\nBusiness World   \n",
      "6  5 days ago\\nBusiness World   \n",
      "7  5 days ago\\nBusiness World   \n",
      "8  5 days ago\\nBusiness World   \n",
      "9  7 days ago\\nBusiness World   \n",
      "\n",
      "                                             Content  \n",
      "0  More than 3,000 workers at 27 Metro grocery st...  \n",
      "1  There was little change to Canada's job market...  \n",
      "2  Telecommunications giant Telus says it plans t...  \n",
      "3  All Facebook and Instagram users in Canada won...  \n",
      "4  Wall Street fell on Wednesday after a move by ...  \n",
      "5  National Bank of Canada says it will acquire t...  \n",
      "6  Warning that you might go out of business isn'...  \n",
      "7  Social media giant Meta says it has officially...  \n",
      "8  Cineplex Inc. says it saw its highest July box...  \n",
      "9  A new study involving 41 companies from North ...  \n"
     ]
    }
   ],
   "source": [
    "# This Web Scraper makes use of BeautifulSoup to display various information about fake news articles from \"https://www.maharlikanews.com/\".\n",
    "# URL of the website you want to scrape\n",
    "url = 'https://www.maharlikanews.com/category/world-of-business/'\n",
    "\n",
    "data_maharlika = web_scrape_maharlika_news(url)"
   ]
  },
  {
   "cell_type": "code",
   "execution_count": 68,
   "metadata": {
    "id": "j9X-zaHRCnYE",
    "tags": []
   },
   "outputs": [
    {
     "name": "stdout",
     "output_type": "stream",
     "text": [
      "                                               Title  \\\n",
      "0  I Looked Into Sam Altman’s Orb and All I Got W...   \n",
      "1   Meta Just Proved People Hate Chronological Feeds   \n",
      "2  Meta’s Election Research Opens More Questions ...   \n",
      "3  There’s no flashy Oppenheimer cameo, but this ...   \n",
      "4  Century-old turtle missing for 1 year found de...   \n",
      "5  More Battlefield AI Will Make the Fog of War M...   \n",
      "6  Big AI Won’t Stop Election Deepfakes With Wate...   \n",
      "7  Wildfire smoke in your eyes? Doctors say we ne...   \n",
      "8  What you won’t learn about in Oppenheimer: the...   \n",
      "9  Meta’s Open Source Llama Upsets the AI Horse Race   \n",
      "\n",
      "                Date Posted                                            Content  \n",
      "0  14 hours ago\\nTechnology  Joel Khalili Business Jul 28, 2023 6:00 AM I L...  \n",
      "1  14 hours ago\\nTechnology  Paresh Dave Business Jul 27, 2023 2:00 PM Meta...  \n",
      "2  14 hours ago\\nTechnology  Vittoria ElliottParesh Dave Business Jul 27, 2...  \n",
      "3    2 days ago\\nTechnology  Of all the scientists involved in the Manhatta...  \n",
      "4    3 days ago\\nTechnology  'I was certain it was Grace, and it was heartb...  \n",
      "5    3 days ago\\nTechnology  Will Knight Business Jul 27, 2023 12:00 PM Mor...  \n",
      "6    3 days ago\\nTechnology  Vittoria Elliott Business Jul 27, 2023 7:00 AM...  \n",
      "7    3 days ago\\nTechnology  Just like our lungs, our eyes absorb the fine ...  \n",
      "8    3 days ago\\nTechnology  In this week's issue of our environment newsle...  \n",
      "9    4 days ago\\nTechnology  Khari Johnson Business Jul 26, 2023 7:00 AM Me...  \n"
     ]
    }
   ],
   "source": [
    "# URL of the website you want to scrape\n",
    "url = 'https://www.maharlikanews.com/category/technology/'\n",
    "\n",
    "data_maharlika_2 = web_scrape_maharlika_news(url)"
   ]
  },
  {
   "cell_type": "code",
   "execution_count": 69,
   "metadata": {
    "id": "Tf5WXcI6DQgE",
    "tags": []
   },
   "outputs": [
    {
     "name": "stdout",
     "output_type": "stream",
     "text": [
      "                                               Title  \\\n",
      "0  US denounces Chinese Coast Guard’s ‘excessive’...   \n",
      "1  PH health expert among candidates for WHO West...   \n",
      "2  Romualdez marks ‘impressive’ first year as Spe...   \n",
      "3  1 dead, 95 saved from boat mishap off Romblon ...   \n",
      "4  Teodoro: Natl security concern in EDCA sites, ...   \n",
      "5                    Inflation slows further to 4.7%   \n",
      "6   Manila probes incident of toppled electric posts   \n",
      "7              President taps Corpus, Hosaka for GCG   \n",
      "8  Marcos asks actors’ group to lift TV, film sta...   \n",
      "9                    ‘Look kindly’ on PH, China told   \n",
      "\n",
      "                              Date Posted  \\\n",
      "0  8 hours ago\\nHeadline, Philippine News   \n",
      "1    1 day ago\\nHeadline, Philippine News   \n",
      "2             2 days ago\\nPhilippine News   \n",
      "3             2 days ago\\nPhilippine News   \n",
      "4   2 days ago\\nHeadline, Philippine News   \n",
      "5             3 days ago\\nPhilippine News   \n",
      "6   3 days ago\\nHeadline, Philippine News   \n",
      "7             3 days ago\\nPhilippine News   \n",
      "8   3 days ago\\nHeadline, Philippine News   \n",
      "9             4 days ago\\nPhilippine News   \n",
      "\n",
      "                                             Content  \n",
      "0  WASHINGTON said it stands with Manila amid the...  \n",
      "1  PUBLIC health expert, Dr. Susan Pineda Mercado...  \n",
      "2  Following his first year on the job, Speaker M...  \n",
      "3  One person died while 95 passengers were saved...  \n",
      "4  THE national security of the Philippines is th...  \n",
      "5  Now at 16-month low, but Statistics Authority ...  \n",
      "6  THE Manila City government will investigate th...  \n",
      "7  Marius Corpus Brian Hosaka President Ferdinand...  \n",
      "8  PRESIDENT Ferdinand “Bongbong” Marcos on Thurs...  \n",
      "9  As US solon bares ‘Pacific Deterrence Initiati...  \n"
     ]
    }
   ],
   "source": [
    "# URL of the website you want to scrape\n",
    "url = 'https://www.maharlikanews.com/category/in-the-news/philippine-news/'\n",
    "\n",
    "data_maharlika_3 = web_scrape_maharlika_news(url)"
   ]
  },
  {
   "cell_type": "code",
   "execution_count": 70,
   "metadata": {
    "id": "QuVER4peC2kJ",
    "tags": []
   },
   "outputs": [
    {
     "name": "stdout",
     "output_type": "stream",
     "text": [
      "                                               Title            Date Posted  \\\n",
      "0  Rescue, evacuation efforts intensify as deadly...   1 day ago\\nWorldNews   \n",
      "1  This baby was found under the rubble of a dead...   1 day ago\\nWorldNews   \n",
      "2  Pakistan ex-PM Imran Khan arrested after court...  2 days ago\\nWorldNews   \n",
      "3  The scandals swirling around Hunter Biden — wh...  2 days ago\\nWorldNews   \n",
      "4  NYC police to charge Twitch streamer after fan...  2 days ago\\nWorldNews   \n",
      "5  Canada says Armenians face ‘deteriorating huma...  2 days ago\\nWorldNews   \n",
      "6  Russian warship seriously damaged in Ukrainian...  2 days ago\\nWorldNews   \n",
      "7  Greenpeace protesters arrested after stunt at ...  4 days ago\\nWorldNews   \n",
      "8  Jury recommends death penalty for shooter who ...  4 days ago\\nWorldNews   \n",
      "9  Rudy Giuliani defiant as Trump co-conspirators...  4 days ago\\nWorldNews   \n",
      "\n",
      "                                             Content  \n",
      "0  Thousands of people threatened by storm-swolle...  \n",
      "1  Baby Afraa survived 10 hours under the rubble ...  \n",
      "2  Police arrested Pakistan's former Prime Minist...  \n",
      "3  For a broad cross-section of Americans, the po...  \n",
      "4  Aerial TV news footage showed a surging, tight...  \n",
      "5  The Canadian government is again blaming Azerb...  \n",
      "6  A Russian warship was seriously damaged in an ...  \n",
      "7  Five Greenpeace demonstrators were arrested Th...  \n",
      "8  A truck driver who expressed hatred of Jews be...  \n",
      "9  Donald Trump's former lawyer Rudy Giuliani las...  \n"
     ]
    }
   ],
   "source": [
    "# URL of the website you want to scrape\n",
    "url = 'https://www.maharlikanews.com/category/in-the-news/the-world-news/'\n",
    "\n",
    "data_maharlika_4 = web_scrape_maharlika_news(url)"
   ]
  },
  {
   "cell_type": "markdown",
   "metadata": {},
   "source": [
    "# Combining Data From Both Sites"
   ]
  },
  {
   "cell_type": "code",
   "execution_count": null,
   "metadata": {
    "id": "l0IKr0308Toj"
   },
   "outputs": [],
   "source": [
    "fakenews_df = pd.concat([data_ap, data_maharlika,data_ap2,data_maharlika3,data_maharlika4, data_maharlika5]).reset_index(drop=True)\n",
    "fakenews_df"
   ]
  },
  {
   "cell_type": "markdown",
   "metadata": {},
   "source": [
    "# Saving the Combined Fake News Article Data to CSV\n",
    "With the help of pandas' [`to_csv()`](https://pandas.pydata.org/docs/reference/api/pandas.DataFrame.to_csv.html), we will be exporting the web scraped articles stored in `fakenews_df` to CSV with the filename, **`fakenews_dataframe.csv`**. "
   ]
  },
  {
   "cell_type": "code",
   "execution_count": null,
   "metadata": {
    "collapsed": true,
    "id": "kmIzefSCFBi2",
    "jupyter": {
     "outputs_hidden": true
    },
    "tags": []
   },
   "outputs": [
    {
     "ename": "NameError",
     "evalue": "name 'fakenews_df' is not defined",
     "output_type": "error",
     "traceback": [
      "\u001b[0;31m---------------------------------------------------------------------------\u001b[0m",
      "\u001b[0;31mNameError\u001b[0m                                 Traceback (most recent call last)",
      "\u001b[0;32m/var/folders/hy/wg_n_hk95j3_bhf9fkykc7d40000gn/T/ipykernel_24087/4002672279.py\u001b[0m in \u001b[0;36m<module>\u001b[0;34m\u001b[0m\n\u001b[0;32m----> 1\u001b[0;31m \u001b[0mfakenews_df\u001b[0m\u001b[0;34m.\u001b[0m\u001b[0mto_csv\u001b[0m\u001b[0;34m(\u001b[0m\u001b[0;34m\"fakenews\"\u001b[0m\u001b[0;34m,\u001b[0m \u001b[0mindex\u001b[0m\u001b[0;34m=\u001b[0m\u001b[0;32mFalse\u001b[0m\u001b[0;34m)\u001b[0m\u001b[0;34m\u001b[0m\u001b[0;34m\u001b[0m\u001b[0m\n\u001b[0m",
      "\u001b[0;31mNameError\u001b[0m: name 'fakenews_df' is not defined"
     ]
    }
   ],
   "source": [
    "fakenews_df.to_csv(\"fakenews_dataframe.csv\", index=False)"
   ]
  },
  {
   "cell_type": "code",
   "execution_count": null,
   "metadata": {},
   "outputs": [],
   "source": []
  }
 ],
 "metadata": {
  "colab": {
   "provenance": []
  },
  "kernelspec": {
   "display_name": "Python 3 (ipykernel)",
   "language": "python",
   "name": "python3"
  },
  "language_info": {
   "codemirror_mode": {
    "name": "ipython",
    "version": 3
   },
   "file_extension": ".py",
   "mimetype": "text/x-python",
   "name": "python",
   "nbconvert_exporter": "python",
   "pygments_lexer": "ipython3",
   "version": "3.8.8"
  }
 },
 "nbformat": 4,
 "nbformat_minor": 4
}
