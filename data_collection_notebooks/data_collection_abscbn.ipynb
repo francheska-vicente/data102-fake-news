{
 "cells": [
  {
   "cell_type": "code",
   "execution_count": 38,
   "id": "e9fd12c9",
   "metadata": {},
   "outputs": [],
   "source": [
    "from bs4 import BeautifulSoup\n",
    "import requests\n",
    "\n",
    "from selenium import webdriver\n",
    "from selenium.webdriver.common.keys import Keys\n",
    "from selenium.webdriver.common.by import By\n",
    "\n",
    "import time\n",
    "import pandas as pd\n",
    "import numpy as np"
   ]
  },
  {
   "cell_type": "code",
   "execution_count": 39,
   "id": "95e59de1",
   "metadata": {},
   "outputs": [],
   "source": [
    "driver_path=\"/Users/beatricebanzon/Desktop/dlsu/col/2/T3 22.23/DATA102/chromedriver_mac_arm64/chromedriver.exe\"\n",
    "url_abs=(\"https://news.abs-cbn.com/news?page=1\")\n",
    "url_anc=(\"https://news.abs-cbn.com/anc/latest?page=1\")"
   ]
  },
  {
   "cell_type": "code",
   "execution_count": 8,
   "id": "49599d26",
   "metadata": {},
   "outputs": [],
   "source": [
    "counter_anc = 1\n",
    "counter_abs = 1\n",
    "pause = 5\n",
    "master = []\n",
    "checker = True\n",
    "prev_length_abs = 0\n",
    "prev_length_anc = 0"
   ]
  },
  {
   "cell_type": "markdown",
   "id": "0b2d3c28",
   "metadata": {},
   "source": [
    "# ABS"
   ]
  },
  {
   "cell_type": "code",
   "execution_count": 25,
   "id": "6d701f2c",
   "metadata": {
    "collapsed": true
   },
   "outputs": [
    {
     "name": "stdout",
     "output_type": "stream",
     "text": [
      "Scraping https://news.abs-cbn.com/news?page=1\n"
     ]
    },
    {
     "name": "stderr",
     "output_type": "stream",
     "text": [
      "/var/folders/j8/_c_8d2dj6jqgrrq7t6t4pz3w0000gn/T/ipykernel_12554/1433409875.py:3: DeprecationWarning: executable_path has been deprecated, please pass in a Service object\n",
      "  driver=webdriver.Chrome(driver_path)\n"
     ]
    },
    {
     "name": "stdout",
     "output_type": "stream",
     "text": [
      "Scraping https://news.abs-cbn.com/news?page=2\n",
      "Scraping https://news.abs-cbn.com/news?page=3\n",
      "Scraping https://news.abs-cbn.com/news?page=4\n",
      "Scraping https://news.abs-cbn.com/news?page=5\n",
      "Scraping https://news.abs-cbn.com/news?page=6\n",
      "Scraping https://news.abs-cbn.com/news?page=7\n",
      "Scraping https://news.abs-cbn.com/news?page=8\n",
      "Scraping https://news.abs-cbn.com/news?page=9\n"
     ]
    },
    {
     "ename": "KeyboardInterrupt",
     "evalue": "",
     "output_type": "error",
     "traceback": [
      "\u001b[0;31m---------------------------------------------------------------------------\u001b[0m",
      "\u001b[0;31mKeyboardInterrupt\u001b[0m                         Traceback (most recent call last)",
      "Input \u001b[0;32mIn [25]\u001b[0m, in \u001b[0;36m<cell line: 1>\u001b[0;34m()\u001b[0m\n\u001b[1;32m      2\u001b[0m \u001b[38;5;28mprint\u001b[39m (\u001b[38;5;124m'\u001b[39m\u001b[38;5;124mScraping\u001b[39m\u001b[38;5;124m'\u001b[39m, url_abs)\n\u001b[1;32m      3\u001b[0m driver\u001b[38;5;241m=\u001b[39mwebdriver\u001b[38;5;241m.\u001b[39mChrome(driver_path)\n\u001b[0;32m----> 4\u001b[0m \u001b[43mdriver\u001b[49m\u001b[38;5;241;43m.\u001b[39;49m\u001b[43mget\u001b[49m\u001b[43m(\u001b[49m\u001b[43murl_abs\u001b[49m\u001b[43m)\u001b[49m\n\u001b[1;32m      6\u001b[0m time\u001b[38;5;241m.\u001b[39msleep(pause)\n\u001b[1;32m      8\u001b[0m temp \u001b[38;5;241m=\u001b[39m driver\u001b[38;5;241m.\u001b[39mfind_elements(By\u001b[38;5;241m.\u001b[39mXPATH, \u001b[38;5;124m'\u001b[39m\u001b[38;5;124m//div[@class=\u001b[39m\u001b[38;5;124m\"\u001b[39m\u001b[38;5;124marticles\u001b[39m\u001b[38;5;124m\"\u001b[39m\u001b[38;5;124m]\u001b[39m\u001b[38;5;124m'\u001b[39m)\n",
      "File \u001b[0;32m~/opt/anaconda3/lib/python3.9/site-packages/selenium/webdriver/remote/webdriver.py:449\u001b[0m, in \u001b[0;36mWebDriver.get\u001b[0;34m(self, url)\u001b[0m\n\u001b[1;32m    447\u001b[0m \u001b[38;5;28;01mdef\u001b[39;00m \u001b[38;5;21mget\u001b[39m(\u001b[38;5;28mself\u001b[39m, url: \u001b[38;5;28mstr\u001b[39m) \u001b[38;5;241m-\u001b[39m\u001b[38;5;241m>\u001b[39m \u001b[38;5;28;01mNone\u001b[39;00m:\n\u001b[1;32m    448\u001b[0m     \u001b[38;5;124;03m\"\"\"Loads a web page in the current browser session.\"\"\"\u001b[39;00m\n\u001b[0;32m--> 449\u001b[0m     \u001b[38;5;28;43mself\u001b[39;49m\u001b[38;5;241;43m.\u001b[39;49m\u001b[43mexecute\u001b[49m\u001b[43m(\u001b[49m\u001b[43mCommand\u001b[49m\u001b[38;5;241;43m.\u001b[39;49m\u001b[43mGET\u001b[49m\u001b[43m,\u001b[49m\u001b[43m \u001b[49m\u001b[43m{\u001b[49m\u001b[38;5;124;43m\"\u001b[39;49m\u001b[38;5;124;43murl\u001b[39;49m\u001b[38;5;124;43m\"\u001b[39;49m\u001b[43m:\u001b[49m\u001b[43m \u001b[49m\u001b[43murl\u001b[49m\u001b[43m}\u001b[49m\u001b[43m)\u001b[49m\n",
      "File \u001b[0;32m~/opt/anaconda3/lib/python3.9/site-packages/selenium/webdriver/remote/webdriver.py:438\u001b[0m, in \u001b[0;36mWebDriver.execute\u001b[0;34m(self, driver_command, params)\u001b[0m\n\u001b[1;32m    435\u001b[0m     \u001b[38;5;28;01melif\u001b[39;00m \u001b[38;5;124m\"\u001b[39m\u001b[38;5;124msessionId\u001b[39m\u001b[38;5;124m\"\u001b[39m \u001b[38;5;129;01mnot\u001b[39;00m \u001b[38;5;129;01min\u001b[39;00m params:\n\u001b[1;32m    436\u001b[0m         params[\u001b[38;5;124m\"\u001b[39m\u001b[38;5;124msessionId\u001b[39m\u001b[38;5;124m\"\u001b[39m] \u001b[38;5;241m=\u001b[39m \u001b[38;5;28mself\u001b[39m\u001b[38;5;241m.\u001b[39msession_id\n\u001b[0;32m--> 438\u001b[0m response \u001b[38;5;241m=\u001b[39m \u001b[38;5;28;43mself\u001b[39;49m\u001b[38;5;241;43m.\u001b[39;49m\u001b[43mcommand_executor\u001b[49m\u001b[38;5;241;43m.\u001b[39;49m\u001b[43mexecute\u001b[49m\u001b[43m(\u001b[49m\u001b[43mdriver_command\u001b[49m\u001b[43m,\u001b[49m\u001b[43m \u001b[49m\u001b[43mparams\u001b[49m\u001b[43m)\u001b[49m\n\u001b[1;32m    439\u001b[0m \u001b[38;5;28;01mif\u001b[39;00m response:\n\u001b[1;32m    440\u001b[0m     \u001b[38;5;28mself\u001b[39m\u001b[38;5;241m.\u001b[39merror_handler\u001b[38;5;241m.\u001b[39mcheck_response(response)\n",
      "File \u001b[0;32m~/opt/anaconda3/lib/python3.9/site-packages/selenium/webdriver/remote/remote_connection.py:290\u001b[0m, in \u001b[0;36mRemoteConnection.execute\u001b[0;34m(self, command, params)\u001b[0m\n\u001b[1;32m    288\u001b[0m data \u001b[38;5;241m=\u001b[39m utils\u001b[38;5;241m.\u001b[39mdump_json(params)\n\u001b[1;32m    289\u001b[0m url \u001b[38;5;241m=\u001b[39m \u001b[38;5;124mf\u001b[39m\u001b[38;5;124m\"\u001b[39m\u001b[38;5;132;01m{\u001b[39;00m\u001b[38;5;28mself\u001b[39m\u001b[38;5;241m.\u001b[39m_url\u001b[38;5;132;01m}\u001b[39;00m\u001b[38;5;132;01m{\u001b[39;00mpath\u001b[38;5;132;01m}\u001b[39;00m\u001b[38;5;124m\"\u001b[39m\n\u001b[0;32m--> 290\u001b[0m \u001b[38;5;28;01mreturn\u001b[39;00m \u001b[38;5;28;43mself\u001b[39;49m\u001b[38;5;241;43m.\u001b[39;49m\u001b[43m_request\u001b[49m\u001b[43m(\u001b[49m\u001b[43mcommand_info\u001b[49m\u001b[43m[\u001b[49m\u001b[38;5;241;43m0\u001b[39;49m\u001b[43m]\u001b[49m\u001b[43m,\u001b[49m\u001b[43m \u001b[49m\u001b[43murl\u001b[49m\u001b[43m,\u001b[49m\u001b[43m \u001b[49m\u001b[43mbody\u001b[49m\u001b[38;5;241;43m=\u001b[39;49m\u001b[43mdata\u001b[49m\u001b[43m)\u001b[49m\n",
      "File \u001b[0;32m~/opt/anaconda3/lib/python3.9/site-packages/selenium/webdriver/remote/remote_connection.py:311\u001b[0m, in \u001b[0;36mRemoteConnection._request\u001b[0;34m(self, method, url, body)\u001b[0m\n\u001b[1;32m    308\u001b[0m     body \u001b[38;5;241m=\u001b[39m \u001b[38;5;28;01mNone\u001b[39;00m\n\u001b[1;32m    310\u001b[0m \u001b[38;5;28;01mif\u001b[39;00m \u001b[38;5;28mself\u001b[39m\u001b[38;5;241m.\u001b[39mkeep_alive:\n\u001b[0;32m--> 311\u001b[0m     response \u001b[38;5;241m=\u001b[39m \u001b[38;5;28;43mself\u001b[39;49m\u001b[38;5;241;43m.\u001b[39;49m\u001b[43m_conn\u001b[49m\u001b[38;5;241;43m.\u001b[39;49m\u001b[43mrequest\u001b[49m\u001b[43m(\u001b[49m\u001b[43mmethod\u001b[49m\u001b[43m,\u001b[49m\u001b[43m \u001b[49m\u001b[43murl\u001b[49m\u001b[43m,\u001b[49m\u001b[43m \u001b[49m\u001b[43mbody\u001b[49m\u001b[38;5;241;43m=\u001b[39;49m\u001b[43mbody\u001b[49m\u001b[43m,\u001b[49m\u001b[43m \u001b[49m\u001b[43mheaders\u001b[49m\u001b[38;5;241;43m=\u001b[39;49m\u001b[43mheaders\u001b[49m\u001b[43m)\u001b[49m\n\u001b[1;32m    312\u001b[0m     statuscode \u001b[38;5;241m=\u001b[39m response\u001b[38;5;241m.\u001b[39mstatus\n\u001b[1;32m    313\u001b[0m \u001b[38;5;28;01melse\u001b[39;00m:\n",
      "File \u001b[0;32m~/opt/anaconda3/lib/python3.9/site-packages/urllib3/request.py:78\u001b[0m, in \u001b[0;36mRequestMethods.request\u001b[0;34m(self, method, url, fields, headers, **urlopen_kw)\u001b[0m\n\u001b[1;32m     74\u001b[0m     \u001b[38;5;28;01mreturn\u001b[39;00m \u001b[38;5;28mself\u001b[39m\u001b[38;5;241m.\u001b[39mrequest_encode_url(\n\u001b[1;32m     75\u001b[0m         method, url, fields\u001b[38;5;241m=\u001b[39mfields, headers\u001b[38;5;241m=\u001b[39mheaders, \u001b[38;5;241m*\u001b[39m\u001b[38;5;241m*\u001b[39murlopen_kw\n\u001b[1;32m     76\u001b[0m     )\n\u001b[1;32m     77\u001b[0m \u001b[38;5;28;01melse\u001b[39;00m:\n\u001b[0;32m---> 78\u001b[0m     \u001b[38;5;28;01mreturn\u001b[39;00m \u001b[38;5;28;43mself\u001b[39;49m\u001b[38;5;241;43m.\u001b[39;49m\u001b[43mrequest_encode_body\u001b[49m\u001b[43m(\u001b[49m\n\u001b[1;32m     79\u001b[0m \u001b[43m        \u001b[49m\u001b[43mmethod\u001b[49m\u001b[43m,\u001b[49m\u001b[43m \u001b[49m\u001b[43murl\u001b[49m\u001b[43m,\u001b[49m\u001b[43m \u001b[49m\u001b[43mfields\u001b[49m\u001b[38;5;241;43m=\u001b[39;49m\u001b[43mfields\u001b[49m\u001b[43m,\u001b[49m\u001b[43m \u001b[49m\u001b[43mheaders\u001b[49m\u001b[38;5;241;43m=\u001b[39;49m\u001b[43mheaders\u001b[49m\u001b[43m,\u001b[49m\u001b[43m \u001b[49m\u001b[38;5;241;43m*\u001b[39;49m\u001b[38;5;241;43m*\u001b[39;49m\u001b[43murlopen_kw\u001b[49m\n\u001b[1;32m     80\u001b[0m \u001b[43m    \u001b[49m\u001b[43m)\u001b[49m\n",
      "File \u001b[0;32m~/opt/anaconda3/lib/python3.9/site-packages/urllib3/request.py:170\u001b[0m, in \u001b[0;36mRequestMethods.request_encode_body\u001b[0;34m(self, method, url, fields, headers, encode_multipart, multipart_boundary, **urlopen_kw)\u001b[0m\n\u001b[1;32m    167\u001b[0m extra_kw[\u001b[38;5;124m\"\u001b[39m\u001b[38;5;124mheaders\u001b[39m\u001b[38;5;124m\"\u001b[39m]\u001b[38;5;241m.\u001b[39mupdate(headers)\n\u001b[1;32m    168\u001b[0m extra_kw\u001b[38;5;241m.\u001b[39mupdate(urlopen_kw)\n\u001b[0;32m--> 170\u001b[0m \u001b[38;5;28;01mreturn\u001b[39;00m \u001b[38;5;28;43mself\u001b[39;49m\u001b[38;5;241;43m.\u001b[39;49m\u001b[43murlopen\u001b[49m\u001b[43m(\u001b[49m\u001b[43mmethod\u001b[49m\u001b[43m,\u001b[49m\u001b[43m \u001b[49m\u001b[43murl\u001b[49m\u001b[43m,\u001b[49m\u001b[43m \u001b[49m\u001b[38;5;241;43m*\u001b[39;49m\u001b[38;5;241;43m*\u001b[39;49m\u001b[43mextra_kw\u001b[49m\u001b[43m)\u001b[49m\n",
      "File \u001b[0;32m~/opt/anaconda3/lib/python3.9/site-packages/urllib3/poolmanager.py:376\u001b[0m, in \u001b[0;36mPoolManager.urlopen\u001b[0;34m(self, method, url, redirect, **kw)\u001b[0m\n\u001b[1;32m    374\u001b[0m     response \u001b[38;5;241m=\u001b[39m conn\u001b[38;5;241m.\u001b[39murlopen(method, url, \u001b[38;5;241m*\u001b[39m\u001b[38;5;241m*\u001b[39mkw)\n\u001b[1;32m    375\u001b[0m \u001b[38;5;28;01melse\u001b[39;00m:\n\u001b[0;32m--> 376\u001b[0m     response \u001b[38;5;241m=\u001b[39m \u001b[43mconn\u001b[49m\u001b[38;5;241;43m.\u001b[39;49m\u001b[43murlopen\u001b[49m\u001b[43m(\u001b[49m\u001b[43mmethod\u001b[49m\u001b[43m,\u001b[49m\u001b[43m \u001b[49m\u001b[43mu\u001b[49m\u001b[38;5;241;43m.\u001b[39;49m\u001b[43mrequest_uri\u001b[49m\u001b[43m,\u001b[49m\u001b[43m \u001b[49m\u001b[38;5;241;43m*\u001b[39;49m\u001b[38;5;241;43m*\u001b[39;49m\u001b[43mkw\u001b[49m\u001b[43m)\u001b[49m\n\u001b[1;32m    378\u001b[0m redirect_location \u001b[38;5;241m=\u001b[39m redirect \u001b[38;5;129;01mand\u001b[39;00m response\u001b[38;5;241m.\u001b[39mget_redirect_location()\n\u001b[1;32m    379\u001b[0m \u001b[38;5;28;01mif\u001b[39;00m \u001b[38;5;129;01mnot\u001b[39;00m redirect_location:\n",
      "File \u001b[0;32m~/opt/anaconda3/lib/python3.9/site-packages/urllib3/connectionpool.py:703\u001b[0m, in \u001b[0;36mHTTPConnectionPool.urlopen\u001b[0;34m(self, method, url, body, headers, retries, redirect, assert_same_host, timeout, pool_timeout, release_conn, chunked, body_pos, **response_kw)\u001b[0m\n\u001b[1;32m    700\u001b[0m     \u001b[38;5;28mself\u001b[39m\u001b[38;5;241m.\u001b[39m_prepare_proxy(conn)\n\u001b[1;32m    702\u001b[0m \u001b[38;5;66;03m# Make the request on the httplib connection object.\u001b[39;00m\n\u001b[0;32m--> 703\u001b[0m httplib_response \u001b[38;5;241m=\u001b[39m \u001b[38;5;28;43mself\u001b[39;49m\u001b[38;5;241;43m.\u001b[39;49m\u001b[43m_make_request\u001b[49m\u001b[43m(\u001b[49m\n\u001b[1;32m    704\u001b[0m \u001b[43m    \u001b[49m\u001b[43mconn\u001b[49m\u001b[43m,\u001b[49m\n\u001b[1;32m    705\u001b[0m \u001b[43m    \u001b[49m\u001b[43mmethod\u001b[49m\u001b[43m,\u001b[49m\n\u001b[1;32m    706\u001b[0m \u001b[43m    \u001b[49m\u001b[43murl\u001b[49m\u001b[43m,\u001b[49m\n\u001b[1;32m    707\u001b[0m \u001b[43m    \u001b[49m\u001b[43mtimeout\u001b[49m\u001b[38;5;241;43m=\u001b[39;49m\u001b[43mtimeout_obj\u001b[49m\u001b[43m,\u001b[49m\n\u001b[1;32m    708\u001b[0m \u001b[43m    \u001b[49m\u001b[43mbody\u001b[49m\u001b[38;5;241;43m=\u001b[39;49m\u001b[43mbody\u001b[49m\u001b[43m,\u001b[49m\n\u001b[1;32m    709\u001b[0m \u001b[43m    \u001b[49m\u001b[43mheaders\u001b[49m\u001b[38;5;241;43m=\u001b[39;49m\u001b[43mheaders\u001b[49m\u001b[43m,\u001b[49m\n\u001b[1;32m    710\u001b[0m \u001b[43m    \u001b[49m\u001b[43mchunked\u001b[49m\u001b[38;5;241;43m=\u001b[39;49m\u001b[43mchunked\u001b[49m\u001b[43m,\u001b[49m\n\u001b[1;32m    711\u001b[0m \u001b[43m\u001b[49m\u001b[43m)\u001b[49m\n\u001b[1;32m    713\u001b[0m \u001b[38;5;66;03m# If we're going to release the connection in ``finally:``, then\u001b[39;00m\n\u001b[1;32m    714\u001b[0m \u001b[38;5;66;03m# the response doesn't need to know about the connection. Otherwise\u001b[39;00m\n\u001b[1;32m    715\u001b[0m \u001b[38;5;66;03m# it will also try to release it and we'll have a double-release\u001b[39;00m\n\u001b[1;32m    716\u001b[0m \u001b[38;5;66;03m# mess.\u001b[39;00m\n\u001b[1;32m    717\u001b[0m response_conn \u001b[38;5;241m=\u001b[39m conn \u001b[38;5;28;01mif\u001b[39;00m \u001b[38;5;129;01mnot\u001b[39;00m release_conn \u001b[38;5;28;01melse\u001b[39;00m \u001b[38;5;28;01mNone\u001b[39;00m\n",
      "File \u001b[0;32m~/opt/anaconda3/lib/python3.9/site-packages/urllib3/connectionpool.py:449\u001b[0m, in \u001b[0;36mHTTPConnectionPool._make_request\u001b[0;34m(self, conn, method, url, timeout, chunked, **httplib_request_kw)\u001b[0m\n\u001b[1;32m    444\u001b[0m             httplib_response \u001b[38;5;241m=\u001b[39m conn\u001b[38;5;241m.\u001b[39mgetresponse()\n\u001b[1;32m    445\u001b[0m         \u001b[38;5;28;01mexcept\u001b[39;00m \u001b[38;5;167;01mBaseException\u001b[39;00m \u001b[38;5;28;01mas\u001b[39;00m e:\n\u001b[1;32m    446\u001b[0m             \u001b[38;5;66;03m# Remove the TypeError from the exception chain in\u001b[39;00m\n\u001b[1;32m    447\u001b[0m             \u001b[38;5;66;03m# Python 3 (including for exceptions like SystemExit).\u001b[39;00m\n\u001b[1;32m    448\u001b[0m             \u001b[38;5;66;03m# Otherwise it looks like a bug in the code.\u001b[39;00m\n\u001b[0;32m--> 449\u001b[0m             \u001b[43msix\u001b[49m\u001b[38;5;241;43m.\u001b[39;49m\u001b[43mraise_from\u001b[49m\u001b[43m(\u001b[49m\u001b[43me\u001b[49m\u001b[43m,\u001b[49m\u001b[43m \u001b[49m\u001b[38;5;28;43;01mNone\u001b[39;49;00m\u001b[43m)\u001b[49m\n\u001b[1;32m    450\u001b[0m \u001b[38;5;28;01mexcept\u001b[39;00m (SocketTimeout, BaseSSLError, SocketError) \u001b[38;5;28;01mas\u001b[39;00m e:\n\u001b[1;32m    451\u001b[0m     \u001b[38;5;28mself\u001b[39m\u001b[38;5;241m.\u001b[39m_raise_timeout(err\u001b[38;5;241m=\u001b[39me, url\u001b[38;5;241m=\u001b[39murl, timeout_value\u001b[38;5;241m=\u001b[39mread_timeout)\n",
      "File \u001b[0;32m<string>:3\u001b[0m, in \u001b[0;36mraise_from\u001b[0;34m(value, from_value)\u001b[0m\n",
      "File \u001b[0;32m~/opt/anaconda3/lib/python3.9/site-packages/urllib3/connectionpool.py:444\u001b[0m, in \u001b[0;36mHTTPConnectionPool._make_request\u001b[0;34m(self, conn, method, url, timeout, chunked, **httplib_request_kw)\u001b[0m\n\u001b[1;32m    441\u001b[0m \u001b[38;5;28;01mexcept\u001b[39;00m \u001b[38;5;167;01mTypeError\u001b[39;00m:\n\u001b[1;32m    442\u001b[0m     \u001b[38;5;66;03m# Python 3\u001b[39;00m\n\u001b[1;32m    443\u001b[0m     \u001b[38;5;28;01mtry\u001b[39;00m:\n\u001b[0;32m--> 444\u001b[0m         httplib_response \u001b[38;5;241m=\u001b[39m \u001b[43mconn\u001b[49m\u001b[38;5;241;43m.\u001b[39;49m\u001b[43mgetresponse\u001b[49m\u001b[43m(\u001b[49m\u001b[43m)\u001b[49m\n\u001b[1;32m    445\u001b[0m     \u001b[38;5;28;01mexcept\u001b[39;00m \u001b[38;5;167;01mBaseException\u001b[39;00m \u001b[38;5;28;01mas\u001b[39;00m e:\n\u001b[1;32m    446\u001b[0m         \u001b[38;5;66;03m# Remove the TypeError from the exception chain in\u001b[39;00m\n\u001b[1;32m    447\u001b[0m         \u001b[38;5;66;03m# Python 3 (including for exceptions like SystemExit).\u001b[39;00m\n\u001b[1;32m    448\u001b[0m         \u001b[38;5;66;03m# Otherwise it looks like a bug in the code.\u001b[39;00m\n\u001b[1;32m    449\u001b[0m         six\u001b[38;5;241m.\u001b[39mraise_from(e, \u001b[38;5;28;01mNone\u001b[39;00m)\n",
      "File \u001b[0;32m~/opt/anaconda3/lib/python3.9/http/client.py:1377\u001b[0m, in \u001b[0;36mHTTPConnection.getresponse\u001b[0;34m(self)\u001b[0m\n\u001b[1;32m   1375\u001b[0m \u001b[38;5;28;01mtry\u001b[39;00m:\n\u001b[1;32m   1376\u001b[0m     \u001b[38;5;28;01mtry\u001b[39;00m:\n\u001b[0;32m-> 1377\u001b[0m         \u001b[43mresponse\u001b[49m\u001b[38;5;241;43m.\u001b[39;49m\u001b[43mbegin\u001b[49m\u001b[43m(\u001b[49m\u001b[43m)\u001b[49m\n\u001b[1;32m   1378\u001b[0m     \u001b[38;5;28;01mexcept\u001b[39;00m \u001b[38;5;167;01mConnectionError\u001b[39;00m:\n\u001b[1;32m   1379\u001b[0m         \u001b[38;5;28mself\u001b[39m\u001b[38;5;241m.\u001b[39mclose()\n",
      "File \u001b[0;32m~/opt/anaconda3/lib/python3.9/http/client.py:320\u001b[0m, in \u001b[0;36mHTTPResponse.begin\u001b[0;34m(self)\u001b[0m\n\u001b[1;32m    318\u001b[0m \u001b[38;5;66;03m# read until we get a non-100 response\u001b[39;00m\n\u001b[1;32m    319\u001b[0m \u001b[38;5;28;01mwhile\u001b[39;00m \u001b[38;5;28;01mTrue\u001b[39;00m:\n\u001b[0;32m--> 320\u001b[0m     version, status, reason \u001b[38;5;241m=\u001b[39m \u001b[38;5;28;43mself\u001b[39;49m\u001b[38;5;241;43m.\u001b[39;49m\u001b[43m_read_status\u001b[49m\u001b[43m(\u001b[49m\u001b[43m)\u001b[49m\n\u001b[1;32m    321\u001b[0m     \u001b[38;5;28;01mif\u001b[39;00m status \u001b[38;5;241m!=\u001b[39m CONTINUE:\n\u001b[1;32m    322\u001b[0m         \u001b[38;5;28;01mbreak\u001b[39;00m\n",
      "File \u001b[0;32m~/opt/anaconda3/lib/python3.9/http/client.py:281\u001b[0m, in \u001b[0;36mHTTPResponse._read_status\u001b[0;34m(self)\u001b[0m\n\u001b[1;32m    280\u001b[0m \u001b[38;5;28;01mdef\u001b[39;00m \u001b[38;5;21m_read_status\u001b[39m(\u001b[38;5;28mself\u001b[39m):\n\u001b[0;32m--> 281\u001b[0m     line \u001b[38;5;241m=\u001b[39m \u001b[38;5;28mstr\u001b[39m(\u001b[38;5;28;43mself\u001b[39;49m\u001b[38;5;241;43m.\u001b[39;49m\u001b[43mfp\u001b[49m\u001b[38;5;241;43m.\u001b[39;49m\u001b[43mreadline\u001b[49m\u001b[43m(\u001b[49m\u001b[43m_MAXLINE\u001b[49m\u001b[43m \u001b[49m\u001b[38;5;241;43m+\u001b[39;49m\u001b[43m \u001b[49m\u001b[38;5;241;43m1\u001b[39;49m\u001b[43m)\u001b[49m, \u001b[38;5;124m\"\u001b[39m\u001b[38;5;124miso-8859-1\u001b[39m\u001b[38;5;124m\"\u001b[39m)\n\u001b[1;32m    282\u001b[0m     \u001b[38;5;28;01mif\u001b[39;00m \u001b[38;5;28mlen\u001b[39m(line) \u001b[38;5;241m>\u001b[39m _MAXLINE:\n\u001b[1;32m    283\u001b[0m         \u001b[38;5;28;01mraise\u001b[39;00m LineTooLong(\u001b[38;5;124m\"\u001b[39m\u001b[38;5;124mstatus line\u001b[39m\u001b[38;5;124m\"\u001b[39m)\n",
      "File \u001b[0;32m~/opt/anaconda3/lib/python3.9/socket.py:704\u001b[0m, in \u001b[0;36mSocketIO.readinto\u001b[0;34m(self, b)\u001b[0m\n\u001b[1;32m    702\u001b[0m \u001b[38;5;28;01mwhile\u001b[39;00m \u001b[38;5;28;01mTrue\u001b[39;00m:\n\u001b[1;32m    703\u001b[0m     \u001b[38;5;28;01mtry\u001b[39;00m:\n\u001b[0;32m--> 704\u001b[0m         \u001b[38;5;28;01mreturn\u001b[39;00m \u001b[38;5;28;43mself\u001b[39;49m\u001b[38;5;241;43m.\u001b[39;49m\u001b[43m_sock\u001b[49m\u001b[38;5;241;43m.\u001b[39;49m\u001b[43mrecv_into\u001b[49m\u001b[43m(\u001b[49m\u001b[43mb\u001b[49m\u001b[43m)\u001b[49m\n\u001b[1;32m    705\u001b[0m     \u001b[38;5;28;01mexcept\u001b[39;00m timeout:\n\u001b[1;32m    706\u001b[0m         \u001b[38;5;28mself\u001b[39m\u001b[38;5;241m.\u001b[39m_timeout_occurred \u001b[38;5;241m=\u001b[39m \u001b[38;5;28;01mTrue\u001b[39;00m\n",
      "\u001b[0;31mKeyboardInterrupt\u001b[0m: "
     ]
    }
   ],
   "source": [
    "while checker:\n",
    "    print ('Scraping', url_abs)\n",
    "    driver=webdriver.Chrome(driver_path)\n",
    "    driver.get(url_abs)\n",
    "    \n",
    "    time.sleep(pause)\n",
    "    \n",
    "    temp = driver.find_elements(By.XPATH, '//div[@class=\"articles\"]')\n",
    "\n",
    "    for each in temp[0].find_elements(By.XPATH, '//a[@class=\"text-red\"]'):\n",
    "        link = each.get_attribute(\"href\")\n",
    "        master.append(link)\n",
    "    \n",
    "    time.sleep(pause)\n",
    "    counter_abs+=1\n",
    "    url_abs = url_abs.split ('=')[0] + '=' + str (counter_abs)\n",
    "    \n",
    "    if counter_abs==9:\n",
    "        break"
   ]
  },
  {
   "cell_type": "markdown",
   "id": "b33f9545",
   "metadata": {},
   "source": [
    "# ANC"
   ]
  },
  {
   "cell_type": "code",
   "execution_count": 9,
   "id": "8aaa732c",
   "metadata": {
    "collapsed": true
   },
   "outputs": [
    {
     "name": "stdout",
     "output_type": "stream",
     "text": [
      "Scraping https://news.abs-cbn.com/anc/latest?page=1\n"
     ]
    },
    {
     "name": "stderr",
     "output_type": "stream",
     "text": [
      "/var/folders/j8/_c_8d2dj6jqgrrq7t6t4pz3w0000gn/T/ipykernel_12554/2100195917.py:3: DeprecationWarning: executable_path has been deprecated, please pass in a Service object\n",
      "  driver=webdriver.Chrome(driver_path)\n"
     ]
    },
    {
     "name": "stdout",
     "output_type": "stream",
     "text": [
      "Scraping https://news.abs-cbn.com/anc/latest?page=2\n",
      "Scraping https://news.abs-cbn.com/anc/latest?page=3\n",
      "Scraping https://news.abs-cbn.com/anc/latest?page=4\n",
      "Scraping https://news.abs-cbn.com/anc/latest?page=5\n",
      "Scraping https://news.abs-cbn.com/anc/latest?page=6\n",
      "Scraping https://news.abs-cbn.com/anc/latest?page=7\n",
      "Scraping https://news.abs-cbn.com/anc/latest?page=8\n",
      "Scraping https://news.abs-cbn.com/anc/latest?page=9\n",
      "Scraping https://news.abs-cbn.com/anc/latest?page=10\n",
      "Scraping https://news.abs-cbn.com/anc/latest?page=11\n",
      "Scraping https://news.abs-cbn.com/anc/latest?page=12\n",
      "Scraping https://news.abs-cbn.com/anc/latest?page=13\n",
      "Scraping https://news.abs-cbn.com/anc/latest?page=14\n",
      "Scraping https://news.abs-cbn.com/anc/latest?page=15\n",
      "Scraping https://news.abs-cbn.com/anc/latest?page=16\n",
      "Scraping https://news.abs-cbn.com/anc/latest?page=17\n",
      "Scraping https://news.abs-cbn.com/anc/latest?page=18\n",
      "Scraping https://news.abs-cbn.com/anc/latest?page=19\n",
      "Scraping https://news.abs-cbn.com/anc/latest?page=20\n"
     ]
    }
   ],
   "source": [
    "while checker:\n",
    "    print ('Scraping', url_anc)\n",
    "    driver=webdriver.Chrome(driver_path)\n",
    "    driver.get(url_anc)\n",
    "    \n",
    "    time.sleep(pause)\n",
    "    \n",
    "    temp = driver.find_elements(By.XPATH, '//ul[@class=\"section-lists\"]')\n",
    "\n",
    "    for each in temp[0].find_elements(By.XPATH, '//a[@class=\"w-clearfix w-inline-block section-link\"]'):\n",
    "        link = each.get_attribute(\"href\")\n",
    "        master.append(link)\n",
    "    \n",
    "    time.sleep(pause)\n",
    "    counter_anc+=1\n",
    "    url_anc = url_anc.split ('=')[0] + '=' + str (counter_anc)\n",
    "    \n",
    "    if counter_anc==21:\n",
    "        break"
   ]
  },
  {
   "cell_type": "markdown",
   "id": "a2588be3",
   "metadata": {},
   "source": [
    "# Save"
   ]
  },
  {
   "cell_type": "code",
   "execution_count": 29,
   "id": "74297012",
   "metadata": {},
   "outputs": [],
   "source": [
    "temporary=master"
   ]
  },
  {
   "cell_type": "code",
   "execution_count": 96,
   "id": "41513119",
   "metadata": {
    "collapsed": true
   },
   "outputs": [
    {
     "data": {
      "text/plain": [
       "{'https://news.abs-cbn.com/business/07/08/23/almost-all-revenue-generating-users-have-registered-sims-ntc',\n",
       " 'https://news.abs-cbn.com/business/07/10/23/diesel-prices-up-gasoline-down-starting-july-11',\n",
       " 'https://news.abs-cbn.com/business/07/10/23/dls-batangas-plant-starts-commercial-operations',\n",
       " 'https://news.abs-cbn.com/business/07/10/23/dof-eyes-completion-of-dbp-landbank-merger-by-mid-2024',\n",
       " 'https://news.abs-cbn.com/business/07/10/23/dotr-eyes-full-ops-of-metro-manila-subway-in-2029',\n",
       " 'https://news.abs-cbn.com/business/07/10/23/fdi-net-inflows-dip-141-percent-to-876-m-in-april',\n",
       " 'https://news.abs-cbn.com/business/07/10/23/first-gen-awards-lng-contract-to-shell-eastern-lng',\n",
       " 'https://news.abs-cbn.com/business/07/10/23/meralco-announces-lower-rates-in-july',\n",
       " 'https://news.abs-cbn.com/business/07/10/23/p38-per-kilo-rice-available-in-select-areas',\n",
       " 'https://news.abs-cbn.com/business/07/10/23/ph-world-bank-sign-600-m-loan-for-agri-fisheries',\n",
       " 'https://news.abs-cbn.com/business/07/10/23/twitter-rival-threads-signs-up-100-million-users-in-five-days',\n",
       " 'https://news.abs-cbn.com/business/07/10/23/us-companies-vow-to-boost-investments-in-philippines',\n",
       " 'https://news.abs-cbn.com/business/07/11/23/el-nio-may-affect-philippine-inflation-analyst',\n",
       " 'https://news.abs-cbn.com/business/07/11/23/global-stocks-mostly-rise-as-market-digests-china-inflation-data',\n",
       " 'https://news.abs-cbn.com/business/07/11/23/list-best-places-to-work-in-it-bpo-sector',\n",
       " 'https://news.abs-cbn.com/business/07/11/23/luzon-power-grid-placed-on-yellow-alert-meralco-reports-brownouts',\n",
       " 'https://news.abs-cbn.com/business/07/11/23/marcos-to-pagcor-remain-socially-impactful-fight-illicit-activities',\n",
       " 'https://news.abs-cbn.com/business/07/11/23/p40-wage-hike-in-ncr-to-start-july-16-despite-labor-appeal',\n",
       " 'https://news.abs-cbn.com/business/07/11/23/ph-to-post-fastest-growth-in-asean-in-2023-research-org',\n",
       " 'https://news.abs-cbn.com/business/07/11/23/ph-trade-deficit-narrows-in-may-china-is-top-trade-partner',\n",
       " 'https://news.abs-cbn.com/business/07/11/23/why-the-eu-new-zealand-free-trade-deal-is-important',\n",
       " 'https://news.abs-cbn.com/classified-odd/07/11/23/american-flies-23-million-miles',\n",
       " 'https://news.abs-cbn.com/entertainment/07/08/23/dolly-de-leon-calls-kathryn-bernardo-young-nora-aunor',\n",
       " 'https://news.abs-cbn.com/entertainment/07/08/23/gmas-lhar-santiago-recalls-memories-with-mario-dumaual',\n",
       " 'https://news.abs-cbn.com/entertainment/07/08/23/laglag-si-beshie-vice-anne-show-what-true-friends-look-like',\n",
       " 'https://news.abs-cbn.com/entertainment/07/08/23/look-sharon-cuneta-enjoys-family-time-in-bohol',\n",
       " 'https://news.abs-cbn.com/entertainment/07/09/23/elton-john-hails-fans-at-emotional-final-farewell-show',\n",
       " 'https://news.abs-cbn.com/entertainment/07/09/23/k-pop-megastars-bts-release-memoir',\n",
       " 'https://news.abs-cbn.com/entertainment/07/09/23/lovi-poe-elated-as-seasons-is-now-top-movie-on-netflix-ph',\n",
       " 'https://news.abs-cbn.com/entertainment/07/10/23/star-cinemas-dingdong-marian-film-leads-first-4-entries-of-mmff-2023',\n",
       " 'https://news.abs-cbn.com/entertainment/07/10/23/taylor-swift-reunites-with-ex-taylor-lautner-for-collab',\n",
       " 'https://news.abs-cbn.com/entertainment/07/11/23/movie-review-new-insidious-balances-family-drama-horror',\n",
       " 'https://news.abs-cbn.com/entertainment/07/11/23/mtrcb-allows-barbie-screening-in-ph-amid-controversy',\n",
       " 'https://news.abs-cbn.com/life/07/08/23/isang-alamat-abs-cbn-colleagues-honor-mario-dumaual',\n",
       " 'https://news.abs-cbn.com/life/07/09/23/attendees-enjoy-bargains-in-toycon-ph-2023',\n",
       " 'https://news.abs-cbn.com/life/07/11/23/trans-woman-wins-miss-netherlands-for-first-time',\n",
       " 'https://news.abs-cbn.com/news/07/05/23/confidential-funds-utilized-appropriately-says-ovp',\n",
       " 'https://news.abs-cbn.com/news/07/05/23/jad-dera-admits-going-in-and-out-of-nbi-detention-center',\n",
       " 'https://news.abs-cbn.com/news/07/05/23/p43-m-worth-of-shabu-seized-in-clark-boc',\n",
       " 'https://news.abs-cbn.com/news/07/05/23/pulisya-may-10-persons-of-interest-sa-up-sexual-assault-case',\n",
       " 'https://news.abs-cbn.com/news/07/06/23/another-judge-inhibits-from-last-de-lima-drug-case',\n",
       " 'https://news.abs-cbn.com/news/07/06/23/bata-patay-sa-sunog-sa-davao-city-56-bahay-natupok',\n",
       " 'https://news.abs-cbn.com/news/07/06/23/ched-govt-to-help-nursing-grads-who-failed-board-exam',\n",
       " 'https://news.abs-cbn.com/news/07/06/23/coa-warns-ppa-of-counterclaims-on-its-p73b-untitled-lands',\n",
       " 'https://news.abs-cbn.com/news/07/06/23/deped-summer-break-learning-camps-bukas-sa-grades-7-8',\n",
       " 'https://news.abs-cbn.com/news/07/06/23/doj-to-probe-nbi-officials-involved-in-detainees-escape',\n",
       " 'https://news.abs-cbn.com/news/07/06/23/europe-eyes-philippines-as-asian-security-anchor',\n",
       " 'https://news.abs-cbn.com/news/07/06/23/ex-pco-employees-return-over-p800k-overpaid-terminal-leave-benefits-palace',\n",
       " 'https://news.abs-cbn.com/news/07/06/23/magnitude-47-earthquake-hits-off-zambales',\n",
       " 'https://news.abs-cbn.com/news/07/06/23/marcos-to-sign-the-new-agrarian-emancipation-act',\n",
       " 'https://news.abs-cbn.com/news/07/06/23/pcg-notes-improvement-in-china-behavior-in-west-ph-sea',\n",
       " 'https://news.abs-cbn.com/news/07/06/23/pcgg-to-move-to-ortigas-after-mandaluyong-property-sale',\n",
       " 'https://news.abs-cbn.com/news/07/06/23/prosecutors-seek-inhibition-of-new-judge-in-last-de-lima-drug-case',\n",
       " 'https://news.abs-cbn.com/news/07/06/23/remulla-back-at-doj-after-heart-procedure-says-resignation-never-on-the-table',\n",
       " 'https://news.abs-cbn.com/news/07/06/23/senators-back-dot-despite-love-the-philippines-blunder',\n",
       " 'https://news.abs-cbn.com/news/07/06/23/solon-fix-airports-stop-fussing-over-tourism-slogan',\n",
       " 'https://news.abs-cbn.com/news/07/06/23/sunog-sumiklab-sa-residential-area-sa-sampaloc',\n",
       " 'https://news.abs-cbn.com/news/07/06/23/truck-inararo-ang-ilang-bahay-sa-antipolo-12-sugatan',\n",
       " 'https://news.abs-cbn.com/news/07/06/23/unfinished-projects-hit-by-pandemic-election-bans-mmda',\n",
       " 'https://news.abs-cbn.com/news/07/06/23/universities-colleges-told-to-review-safety-plan-after-up-diliman-sexual-assault',\n",
       " 'https://news.abs-cbn.com/news/07/06/23/up-to-14-tropical-cyclones-may-enter-ph-before-2023-ends-pagasa',\n",
       " 'https://news.abs-cbn.com/news/07/07/23/80-pct-of-filipinos-have-little-to-no-knowledge-about-maharlika-sws',\n",
       " 'https://news.abs-cbn.com/news/07/07/23/alleged-sex-offender-arrested-at-naia',\n",
       " 'https://news.abs-cbn.com/news/07/07/23/bata-kailangang-operahan-matapos-masaksak-ng-gunting-sa-ulo',\n",
       " 'https://news.abs-cbn.com/news/07/07/23/china-says-coast-guard-professional-restrained-in-ayungin',\n",
       " 'https://news.abs-cbn.com/news/07/07/23/chinese-vessels-swarm-iroquois-reef-sabina-shoal-military',\n",
       " 'https://news.abs-cbn.com/news/07/07/23/coa-nfa-failed-to-meet-rice-buffer-requirement-despite-p7-b-subsidy',\n",
       " 'https://news.abs-cbn.com/news/07/07/23/coa-to-dpwh-address-delays-in-p96-billion-projects',\n",
       " 'https://news.abs-cbn.com/news/07/07/23/doh-1382-new-cases-of-omicron-subvariants-detected',\n",
       " 'https://news.abs-cbn.com/news/07/07/23/ex-pnp-intel-chief-bagong-hepe-ng-metro-manila-police',\n",
       " 'https://news.abs-cbn.com/news/07/07/23/family-of-2-missing-activists-urge-ca-to-compel-afp-pnp-to-surface-kin',\n",
       " 'https://news.abs-cbn.com/news/07/07/23/marcos-jr-says-frasco-will-fix-tourism-ad-blunder',\n",
       " 'https://news.abs-cbn.com/news/07/07/23/marcos-jr-vows-continued-modernization-of-afp',\n",
       " 'https://news.abs-cbn.com/news/07/07/23/marcos-says-more-should-be-done-on-unemployment',\n",
       " 'https://news.abs-cbn.com/news/07/07/23/metro-manila-to-experience-35-degree-weather-pagasa',\n",
       " 'https://news.abs-cbn.com/news/07/07/23/new-law-frees-farmers-from-p57-billion-debt',\n",
       " 'https://news.abs-cbn.com/news/07/07/23/ngo-to-sell-p38-per-kilo-rice',\n",
       " 'https://news.abs-cbn.com/news/07/07/23/pamamaril-sa-photojournalist-di-media-related-qcpd',\n",
       " 'https://news.abs-cbn.com/news/07/07/23/up-employees-humirit-na-dagdag-sahod',\n",
       " 'https://news.abs-cbn.com/news/07/07/23/water-interruption-to-affect-over-500000-maynilad-customers',\n",
       " 'https://news.abs-cbn.com/news/07/07/23/ww2-bomb-natagpuan-sa-bar-sa-katipunan-avenue',\n",
       " 'https://news.abs-cbn.com/news/07/07/23/youtube-takes-down-quiboloys-smni-youtube-page',\n",
       " 'https://news.abs-cbn.com/news/07/08/23/2-cops-3-others-nabbed-in-cavite-for-alleged-extortion',\n",
       " 'https://news.abs-cbn.com/news/07/08/23/5-sugatan-sa-sunog-sa-paraaque',\n",
       " 'https://news.abs-cbn.com/news/07/08/23/angat-level-further-dips-amid-looming-water-interruption',\n",
       " 'https://news.abs-cbn.com/news/07/08/23/csc-official-wants-to-know-who-paid-for-dancers-in-nbi-socials-night',\n",
       " 'https://news.abs-cbn.com/news/07/08/23/karagatan-sa-s-leyte-nakaranas-ng-oil-spill',\n",
       " 'https://news.abs-cbn.com/news/07/08/23/lalaki-arestado-sa-reklamong-pagnanakaw-panggagahasa',\n",
       " 'https://news.abs-cbn.com/news/07/08/23/mayon-enters-first-month-of-heightened-unrest',\n",
       " 'https://news.abs-cbn.com/news/07/08/23/mga-sakahan-hindi-pa-gaanong-naaapektuhan-ng-el-nio-sinag',\n",
       " 'https://news.abs-cbn.com/news/07/08/23/neda-sees-minimal-impact-of-el-nino-this-2023',\n",
       " 'https://news.abs-cbn.com/news/07/08/23/new-agrarian-law-a-second-chance-to-improve-farmers-lives-dar',\n",
       " 'https://news.abs-cbn.com/news/07/08/23/p200k-alok-para-mahuli-ang-salarin-sa-pagpaslang-ng-barangay-chairman-sa-quezon',\n",
       " 'https://news.abs-cbn.com/news/07/08/23/p36-m-droga-nasabat-sa-quezon-23-anyos-huli',\n",
       " 'https://news.abs-cbn.com/news/07/08/23/ph-china-should-prevent-violent-encounter-in-west-ph-sea-analyst',\n",
       " 'https://news.abs-cbn.com/news/07/08/23/ph-italy-finalizing-defense-cooperation-memorandum-italian-envoy',\n",
       " 'https://news.abs-cbn.com/news/07/08/23/sunog-sumiklab-sa-residential-area-sa-paraaque',\n",
       " 'https://news.abs-cbn.com/news/07/09/23/abalos-says-to-closely-monitor-negros-oriental-peace-and-order',\n",
       " 'https://news.abs-cbn.com/news/07/09/23/carmona-now-a-city-after-successful-plebiscite',\n",
       " 'https://news.abs-cbn.com/news/07/09/23/dfa-to-pinoys-in-sudan-time-to-go-home',\n",
       " 'https://news.abs-cbn.com/news/07/09/23/dot-slogan-row-no-match-for-revenge-travelers-philtoa',\n",
       " 'https://news.abs-cbn.com/news/07/09/23/ex-tawag-ng-tanghalan-contestant-killed-in-hit-and-run-incident',\n",
       " 'https://news.abs-cbn.com/news/07/09/23/fisherfolk-affected-by-mindoro-oil-spill-file-compensation-claims',\n",
       " 'https://news.abs-cbn.com/news/07/09/23/higit-p76-milyong-jackpot-nasungkit-sa-lotto-642-draw',\n",
       " 'https://news.abs-cbn.com/news/07/09/23/imee-flags-presence-of-more-us-military-planes-in-ph',\n",
       " 'https://news.abs-cbn.com/news/07/09/23/itcz-to-bring-rains-in-palawan-visayas-mindanao-pagasa',\n",
       " 'https://news.abs-cbn.com/news/07/09/23/journalism-great-amando-doronila-95',\n",
       " 'https://news.abs-cbn.com/news/07/09/23/lalaki-patay-2-sugatan-sa-sunog-sa-zamboanga-city',\n",
       " 'https://news.abs-cbn.com/news/07/09/23/marcos-wants-ofw-certification-to-be-free-of-charge',\n",
       " 'https://news.abs-cbn.com/news/07/09/23/philippines-to-continue-to-expose-chinese-incursions',\n",
       " 'https://news.abs-cbn.com/news/07/09/23/sizzling-sunday-34-degree-weather-ahead-in-metro-manila',\n",
       " 'https://news.abs-cbn.com/news/07/10/23/abalos-no-reason-to-defer-negros-oriental-brgy-polls',\n",
       " 'https://news.abs-cbn.com/news/07/10/23/afp-only-one-active-npa-guerrilla-front-remaining-in-ph',\n",
       " 'https://news.abs-cbn.com/news/07/10/23/coa-govt-vehicle-for-pcg-commandant-luxurious',\n",
       " 'https://news.abs-cbn.com/news/07/10/23/coa-urges-pagasa-to-finish-vismin-planetariums',\n",
       " 'https://news.abs-cbn.com/news/07/10/23/doh-logs-2510-covid-19-cases-from-july-3-9',\n",
       " 'https://news.abs-cbn.com/news/07/10/23/doj-hits-pnp-anti-trafficking-raid-suspects-released-for-further-probe',\n",
       " 'https://news.abs-cbn.com/news/07/10/23/dumagat-hold-rain-ritual-as-angat-level-dips-further',\n",
       " 'https://news.abs-cbn.com/news/07/10/23/empleyado-ng-tindahan-ng-lechon-manok-patay-matapos-umanong-makuryente',\n",
       " 'https://news.abs-cbn.com/news/07/10/23/filinvest-reit-eyes-more-leases-this-year',\n",
       " 'https://news.abs-cbn.com/news/07/10/23/freedom-of-information-bill-muling-tinalakay-sa-senado',\n",
       " 'https://news.abs-cbn.com/news/07/10/23/gadon-sworn-in-as-marcos-poverty-adviser',\n",
       " 'https://news.abs-cbn.com/news/07/10/23/house-probe-sought-vs-dots-enhanced-slogan-mess',\n",
       " 'https://news.abs-cbn.com/news/07/10/23/magnitude-5-quake-jolts-eastern-samar',\n",
       " 'https://news.abs-cbn.com/news/07/10/23/mayor-gatchalian-bans-pogos-from-valenzuela-keep-its-good-image',\n",
       " 'https://news.abs-cbn.com/news/07/10/23/nbi-probes-sexy-dance-remulla-says-he-knows-who-hired-performers',\n",
       " 'https://news.abs-cbn.com/news/07/10/23/ofw-employment-certificate-free-of-charge-soon-on-app',\n",
       " 'https://news.abs-cbn.com/news/07/10/23/p13-milyong-shabu-nasamsam-sa-qc',\n",
       " 'https://news.abs-cbn.com/news/07/10/23/quiapo-church-now-a-national-shrine',\n",
       " 'https://news.abs-cbn.com/news/07/10/23/remulla-dera-might-have-influenced-some-probes-in-nbi',\n",
       " 'https://news.abs-cbn.com/news/07/10/23/sandiganbayan-refuses-to-admit-napoles-motion-for-acquittal-in-plunder-case',\n",
       " 'https://news.abs-cbn.com/news/07/10/23/south-korean-president-may-visit-ph-soon-envoy',\n",
       " 'https://news.abs-cbn.com/news/07/11/23/appeal-of-ex-congressman-pancrudo-in-pdaf-guilty-verdict-denied',\n",
       " 'https://news.abs-cbn.com/news/07/11/23/bi-traveler-in-10-birth-cert-issue-had-multiple-red-flags',\n",
       " 'https://news.abs-cbn.com/news/07/11/23/carpio-us-in-west-ph-sea-to-assert-freedom-of-navigation-overflight',\n",
       " 'https://news.abs-cbn.com/news/07/11/23/ched-demand-for-pinoy-nurses-abroad-is-actually-good-news',\n",
       " 'https://news.abs-cbn.com/news/07/11/23/deped-return-to-old-school-calendar-may-take-3-5-years',\n",
       " 'https://news.abs-cbn.com/news/07/11/23/deped-studying-wage-hike-benefits-for-teachers',\n",
       " 'https://news.abs-cbn.com/news/07/11/23/doh-72333-dengue-cases-logged-in-first-half-of-2023',\n",
       " 'https://news.abs-cbn.com/news/07/11/23/frascos-leave-of-absence-not-related-to-tourism-slogan-mess-palace',\n",
       " 'https://news.abs-cbn.com/news/07/11/23/govt-to-release-el-nio-mitigation-plan-marcos',\n",
       " 'https://news.abs-cbn.com/news/07/11/23/increased-us-aircraft-presence-due-to-air-drills-paf',\n",
       " 'https://news.abs-cbn.com/news/07/11/23/ipo-ipo-o-waterspout-namataan-sa-baybay-city',\n",
       " 'https://news.abs-cbn.com/news/07/11/23/lalaki-tiklo-sa-pagnakaw-ng-p22-m-sa-among-korean-national',\n",
       " 'https://news.abs-cbn.com/news/07/11/23/larawan-ng-suspek-sa-ambush-sa-dpwh-official-inilabas',\n",
       " 'https://news.abs-cbn.com/news/07/11/23/meteor-showers-to-illuminate-skies-from-july-to-august',\n",
       " 'https://news.abs-cbn.com/news/07/11/23/metro-manila-covid-positivity-rate-down-to-42-pct-octa',\n",
       " 'https://news.abs-cbn.com/news/07/11/23/ncrpo-bubuo-ng-grupong-tutugis-kay-bantag',\n",
       " 'https://news.abs-cbn.com/news/07/11/23/new-lpa-forecast-to-become-storm-by-weekend',\n",
       " 'https://news.abs-cbn.com/news/07/11/23/p645-calendar-coa-asks-tieza-to-find-cheaper-giveaways',\n",
       " 'https://news.abs-cbn.com/news/07/11/23/pasig-car-dealer-under-boc-watch-over-dubious-luxury-cars',\n",
       " 'https://news.abs-cbn.com/news/07/11/23/pnp-defends-pogo-raid-in-las-pias-amid-looming-senate-probe',\n",
       " 'https://news.abs-cbn.com/news/07/11/23/ports-authority-defends-coa-flagged-projects',\n",
       " 'https://news.abs-cbn.com/news/07/11/23/pride-in-london-2023-suportado-ng-pinoy-lgbtqia-community',\n",
       " 'https://news.abs-cbn.com/news/07/11/23/sona-2023-no-more-mandatory-covid-testing-director-unknown-yet',\n",
       " 'https://news.abs-cbn.com/news/07/11/23/suspect-in-mindoro-broadcasters-killing-arrested',\n",
       " 'https://news.abs-cbn.com/news/07/11/23/suspek-sa-pamamaril-sa-photojournalist-sa-qc-tiklo',\n",
       " 'https://news.abs-cbn.com/news/07/11/23/transgender-couple-holds-wedding-celebration-in-cebu',\n",
       " 'https://news.abs-cbn.com/news/07/11/23/truck-sumalpok-sa-tricycle-bahay-sa-quezon-4-patay',\n",
       " 'https://news.abs-cbn.com/news/07/11/23/warehouse-ng-imported-frozen-meat-sinalakay-sa-bulacan',\n",
       " 'https://news.abs-cbn.com/news/multimedia/photo/07/06/23/angat-dam-nears-minimum-operating-level',\n",
       " 'https://news.abs-cbn.com/news/multimedia/photo/07/06/23/drug-war-victims-remains-returned-to-families',\n",
       " 'https://news.abs-cbn.com/news/multimedia/photo/07/06/23/ph-us-marines-kick-off-semi-annual-exercise',\n",
       " 'https://news.abs-cbn.com/news/multimedia/photo/07/07/23/a-land-of-his-own',\n",
       " 'https://news.abs-cbn.com/news/multimedia/photo/07/07/23/prepping-for-sona-2023',\n",
       " 'https://news.abs-cbn.com/news/multimedia/photo/07/08/23/angat-dam-slightly-breaches-minimum-operating-level',\n",
       " 'https://news.abs-cbn.com/news/multimedia/photo/07/08/23/mrt-7-work-continues',\n",
       " 'https://news.abs-cbn.com/news/multimedia/photo/07/09/23/rising-temperature-affects-corn-plantation-in-cavite',\n",
       " 'https://news.abs-cbn.com/news/multimedia/photo/07/10/23/for-a-better-future',\n",
       " 'https://news.abs-cbn.com/news/multimedia/photo/07/10/23/lower-house-preps-for-marcos-jr-sona',\n",
       " 'https://news.abs-cbn.com/news/multimedia/photo/07/11/23/family-planning-consultation-on-world-population-day',\n",
       " 'https://news.abs-cbn.com/news/multimedia/photo/07/11/23/residents-queue-for-p25-rice-at-da-kadiwa-store',\n",
       " 'https://news.abs-cbn.com/news/multimedia/slideshow/07/06/23/the-day-in-photos-july-5-2023',\n",
       " 'https://news.abs-cbn.com/news/multimedia/slideshow/07/07/23/the-day-in-photos-july-6-2023',\n",
       " 'https://news.abs-cbn.com/news/multimedia/slideshow/07/08/23/the-day-in-photos-july-7-2023',\n",
       " 'https://news.abs-cbn.com/news/multimedia/slideshow/07/10/23/the-day-in-photos-july-10-2023',\n",
       " 'https://news.abs-cbn.com/news/multimedia/slideshow/07/11/23/the-day-in-photos-july-11-2023',\n",
       " 'https://news.abs-cbn.com/news/multimedia/video/07/05/23/huli-sa-cctv-estudyante-nasagasaan-ng-jeep',\n",
       " 'https://news.abs-cbn.com/news/multimedia/video/07/07/23/sexy-dancer-sa-nbi-conference-pinaiimbestigahan',\n",
       " 'https://news.abs-cbn.com/news/multimedia/video/07/10/23/maynilad-customers-makakaranas-ng-water-interruption',\n",
       " 'https://news.abs-cbn.com/news/multimedia/video/07/11/23/libreng-pamasahe-sa-pasig-river-ferry-service',\n",
       " 'https://news.abs-cbn.com/news/multimedia/video/07/11/23/mga-dumagat-nagsagawa-ng-ritwal-para-umulan-sa-angat',\n",
       " 'https://news.abs-cbn.com/overseas/07/08/23/blinken-to-seek-asean-pushback-on-china-pressure-on-myanmar',\n",
       " 'https://news.abs-cbn.com/overseas/07/08/23/fukushima-water-release-plan-clears-last-regulatory-hurdle-in-japan',\n",
       " 'https://news.abs-cbn.com/overseas/07/09/23/heavy-rain-halts-some-bullet-train-services-in-japan',\n",
       " 'https://news.abs-cbn.com/overseas/07/09/23/spains-left-pitches-20000-euros-cash-for-youths',\n",
       " 'https://news.abs-cbn.com/overseas/07/09/23/un-says-climate-may-be-out-of-control-as-heat-records-fall',\n",
       " 'https://news.abs-cbn.com/overseas/07/09/23/un-warns-sudan-faces-full-scale-civil-war-as-air-raid-kills-22',\n",
       " 'https://news.abs-cbn.com/overseas/07/09/23/world-heritage-temple-in-nara-vandalized-by-teen',\n",
       " 'https://news.abs-cbn.com/overseas/07/09/23/zelensky-hails-brave-ukraine-on-500th-day-of-war',\n",
       " 'https://news.abs-cbn.com/overseas/07/10/23/biden-arrives-in-london-ahead-of-nato-summit',\n",
       " 'https://news.abs-cbn.com/overseas/07/10/23/china-urges-asean-regional-forum-to-oppose-fukushima-water-release',\n",
       " 'https://news.abs-cbn.com/overseas/07/10/23/cologne-streets-fill-for-lgbt-parade',\n",
       " 'https://news.abs-cbn.com/overseas/07/10/23/mexican-journalist-found-dead-as-attacks-on-press-continue',\n",
       " 'https://news.abs-cbn.com/overseas/07/10/23/one-dead-as-japan-warns-of-heaviest-rain-ever-in-southwest',\n",
       " 'https://news.abs-cbn.com/overseas/07/10/23/we-must-not-forget-thailand-marks-cave-rescue-anniversary',\n",
       " 'https://news.abs-cbn.com/overseas/07/11/23/china-to-boost-ties-with-solomons-amid-rivalry-with-us',\n",
       " 'https://news.abs-cbn.com/overseas/07/11/23/convicted-ex-gymnastics-doctor-larry-nassar-stabbed-in-jail',\n",
       " 'https://news.abs-cbn.com/overseas/07/11/23/heat-killed-61000-in-europes-record-breaking-2022-summer-study',\n",
       " 'https://news.abs-cbn.com/overseas/07/11/23/myanmar-crisis-tops-agenda-at-divided-asean-foreign-ministers-meeting',\n",
       " 'https://news.abs-cbn.com/overseas/07/11/23/putin-met-with-wagner-chief-in-moscow-after-mutiny',\n",
       " 'https://news.abs-cbn.com/overseas/07/11/23/viral-disease-killing-felines-on-cat-island-cyprus',\n",
       " 'https://news.abs-cbn.com/overseas/07/11/23/volcano-erupts-near-icelandic-capital',\n",
       " 'https://news.abs-cbn.com/overseas/07/11/23/xi-russia-china-should-lead-global-governance-reform',\n",
       " 'https://news.abs-cbn.com/sports/07/08/23/basketball-gilas-thwarts-lithuania-to-end-europe-friendlies',\n",
       " 'https://news.abs-cbn.com/sports/07/08/23/basketball-pasig-tnt-bows-out-of-fiba-3x3-tournament',\n",
       " 'https://news.abs-cbn.com/sports/07/08/23/coach-chot-gilas-moving-forward-despite-thompsons-injury',\n",
       " 'https://news.abs-cbn.com/sports/07/08/23/gilas-youth-set-for-womens-u16-asian-championships',\n",
       " 'https://news.abs-cbn.com/sports/07/08/23/pba-mendoza-hopes-to-get-picked-by-converge',\n",
       " 'https://news.abs-cbn.com/sports/07/08/23/sibol-dota-2-mlbb-teams-saudi-bound-for-iesf-qualifiers',\n",
       " 'https://news.abs-cbn.com/sports/07/08/23/vnl-brazil-sweeps-china',\n",
       " 'https://news.abs-cbn.com/sports/07/09/23/alcaraz-survives-wimbledon-test-rybakina-cruises',\n",
       " 'https://news.abs-cbn.com/sports/07/09/23/basketball-coach-pat-aquino-sees-a-bright-future-for-gilas-womens',\n",
       " 'https://news.abs-cbn.com/sports/07/09/23/bianca-bustamante-seals-second-career-win-in-monza',\n",
       " 'https://news.abs-cbn.com/sports/07/09/23/football-filipinas-unveil-roster-for-womens-world-cup',\n",
       " 'https://news.abs-cbn.com/sports/07/09/23/football-us-womens-star-rapinoe-to-retire-at-end-of-season',\n",
       " 'https://news.abs-cbn.com/sports/07/09/23/golf-fil-am-allisen-corpuz-in-solo-second-at-us-open',\n",
       " 'https://news.abs-cbn.com/sports/07/09/23/kai-sotto-benched-in-magics-summer-league-loss',\n",
       " 'https://news.abs-cbn.com/sports/07/09/23/makati-fc-bound-for-cup-no-1-gothia-world-youth-cup',\n",
       " 'https://news.abs-cbn.com/sports/07/09/23/nba-iconic-coach-popovich-signs-five-year-deal-with-spurs',\n",
       " 'https://news.abs-cbn.com/sports/07/09/23/pba-magnolia-manhandles-san-miguel-in-abuevas-return',\n",
       " 'https://news.abs-cbn.com/sports/07/09/23/pba-tolentino-leads-way-as-northport-fends-off-terrafirma',\n",
       " 'https://news.abs-cbn.com/sports/07/09/23/philippines-hope-meteoric-rise-to-world-cup-is-game-changer',\n",
       " 'https://news.abs-cbn.com/sports/07/09/23/philippines-triumphs-over-macau-to-start-avc-campaign',\n",
       " 'https://news.abs-cbn.com/sports/07/09/23/pnvf-to-bid-for-2025-womens-world-championship',\n",
       " 'https://news.abs-cbn.com/sports/07/09/23/pope-says-will-create-new-cardinals-in-september',\n",
       " 'https://news.abs-cbn.com/sports/07/09/23/reyes-gilas-still-a-work-in-progress-after-europe-camp',\n",
       " 'https://news.abs-cbn.com/sports/07/09/23/vnl-canada-downs-china-in-four-sets-avoids-relegation',\n",
       " 'https://news.abs-cbn.com/sports/07/09/23/vnl-italy-stuns-japan-sweeps-ph-leg',\n",
       " 'https://news.abs-cbn.com/sports/07/09/23/vnl-slovenia-ousts-the-netherlands-from-playoff-hunt',\n",
       " 'https://news.abs-cbn.com/sports/07/09/23/vnl-top-ranked-poland-makes-quick-work-of-japan',\n",
       " 'https://news.abs-cbn.com/sports/07/10/23/abaps-main-objective-is-to-win-2024-olympic-gold-puno',\n",
       " 'https://news.abs-cbn.com/sports/07/10/23/alfrancis-chua-appointed-as-ust-special-assistant-for-sports',\n",
       " 'https://news.abs-cbn.com/sports/07/10/23/ancajas-to-extend-us-stay-in-pursuit-of-title',\n",
       " 'https://news.abs-cbn.com/sports/07/10/23/avc-ph-men-stave-off-mongolia-sweep-pool-d',\n",
       " 'https://news.abs-cbn.com/sports/07/10/23/bugay-pursues-two-dreams-at-the-same-time-with-filipinas',\n",
       " 'https://news.abs-cbn.com/sports/07/10/23/f1-verstappen-wins-norris-impresses-in-british-gp',\n",
       " 'https://news.abs-cbn.com/sports/07/10/23/filipinas-arrive-in-auckland-ahead-of-world-cup-stint',\n",
       " 'https://news.abs-cbn.com/sports/07/10/23/ginebra-looks-to-repeat-success-as-pba-3x3-resumes',\n",
       " 'https://news.abs-cbn.com/sports/07/10/23/golf-fil-am-allisen-corpuz-wins-us-womens-open',\n",
       " 'https://news.abs-cbn.com/sports/07/10/23/ph-athletes-told-to-adjust-after-cancellation-of-beach-games',\n",
       " 'https://news.abs-cbn.com/sports/07/10/23/rodman-sends-world-cup-message-with-brace-against-wales',\n",
       " 'https://news.abs-cbn.com/sports/07/10/23/seag-para-games-medalists-set-to-receive-cash-incentives',\n",
       " 'https://news.abs-cbn.com/sports/07/10/23/smb-wilcon-lead-way-after-day-1-of-pba-3x3-leg-2',\n",
       " 'https://news.abs-cbn.com/sports/07/10/23/swiatek-svitolina-win-wimbledon-epics-as-curfew-halts-djokovic',\n",
       " 'https://news.abs-cbn.com/sports/07/10/23/swimming-psi-still-suspended-by-world-aquatics',\n",
       " 'https://news.abs-cbn.com/sports/07/10/23/us-womens-open-triumph-is-dream-come-true-for-allisen-corpuz',\n",
       " 'https://news.abs-cbn.com/sports/07/11/23/djokovic-alcaraz-stay-on-track-for-wimbledon-showdown',\n",
       " 'https://news.abs-cbn.com/sports/07/11/23/f2-still-unbeaten-after-stunning-choco-mucho-in-5-set-classic',\n",
       " 'https://news.abs-cbn.com/sports/07/11/23/fiba-gilas-womens-u-16-crushes-maldives-by-122-points',\n",
       " 'https://news.abs-cbn.com/sports/07/11/23/football-stajcic-wants-filipinas-to-peak-at-the-right-time',\n",
       " 'https://news.abs-cbn.com/sports/07/11/23/gilas-womens-u-16-clobbers-hong-kong-to-open-campaign',\n",
       " 'https://news.abs-cbn.com/sports/07/11/23/jessica-miclat-heartbroken-to-miss-out-on-world-cup-roster',\n",
       " 'https://news.abs-cbn.com/sports/07/11/23/kings-reigns-over-bolts-to-clinch-pba-3x3-leg-2-title',\n",
       " 'https://news.abs-cbn.com/sports/07/11/23/mlbb-sibol-qualifies-for-iesf-wec-in-romania',\n",
       " 'https://news.abs-cbn.com/sports/07/11/23/nba-kai-sotto-staying-ready-for-summer-league-debut',\n",
       " 'https://news.abs-cbn.com/sports/07/11/23/nba-vegas-fans-clamor-for-kai-sotto-in-magics-loss',\n",
       " 'https://news.abs-cbn.com/sports/07/11/23/player-revolt-missing-stars-hurt-spains-world-cup-bid',\n",
       " 'https://news.abs-cbn.com/sports/07/11/23/pvl-chery-tiggo-escapes-akari-in-5-sets-for-first-win',\n",
       " 'https://news.abs-cbn.com/sports/07/11/23/pvl-cignal-makes-short-work-vs-winless-foton',\n",
       " 'https://news.abs-cbn.com/sports/07/11/23/pvl-eya-cherishes-chance-to-share-court-with-ej-anew',\n",
       " 'https://news.abs-cbn.com/sports/07/11/23/pvl-f2-choco-mucho-fight-for-first-semis-spot-in-group-b',\n",
       " 'https://news.abs-cbn.com/sports/07/11/23/pvl-petro-gazz-bucks-errors-keeps-farm-fresh-winless',\n",
       " 'https://news.abs-cbn.com/sports/07/11/23/uaap-fil-am-vince-ventulan-commits-to-ust',\n",
       " 'https://news.abs-cbn.com/sports/07/11/23/wembanyama-wont-play-again-in-nba-summer-league-reports',\n",
       " 'https://news.abs-cbn.com/sports/07/12/23/des-cheng-rushed-to-hospital-amid-extreme-heat-in-venue',\n",
       " 'https://news.abs-cbn.com/spotlight/07/08/23/training-on-minnesota-protocol-in-ph-concludes-1st-run',\n",
       " 'https://news.abs-cbn.com/spotlight/07/09/23/mario-dumauals-relevance',\n",
       " 'https://news.abs-cbn.com/spotlight/07/11/23/cuba-still-in-crisis-two-years-after-historic-protests',\n",
       " 'https://news.abs-cbn.com/spotlight/07/11/23/lgbtq-activism-seeking-queer-love-in-middle-eastern-history',\n",
       " 'https://news.abs-cbn.com/spotlight/07/11/23/standing-up-to-hiv-stigma-through-social-media',\n",
       " 'https://news.abs-cbn.com/video/business/07/10/23/digital-service-providers-must-register-once-vat-approved',\n",
       " 'https://news.abs-cbn.com/video/business/07/11/23/high-inflation-seen-driving-credit-card-use',\n",
       " 'https://news.abs-cbn.com/video/business/07/11/23/india-ph-firms-explore-partnership-opportunities',\n",
       " 'https://news.abs-cbn.com/video/business/07/11/23/ph-economy-projected-to-outpace-neighbors',\n",
       " 'https://news.abs-cbn.com/video/business/07/11/23/ph-shares-join-regional-gains',\n",
       " 'https://news.abs-cbn.com/video/business/07/11/23/ph-shares-start-trading-week-flat',\n",
       " 'https://news.abs-cbn.com/video/business/07/11/23/threads-a-new-way-to-interact-on-meta-platform',\n",
       " 'https://news.abs-cbn.com/video/news/07/05/23/doj-to-form-task-force-addressing-agri-goods-smuggling',\n",
       " 'https://news.abs-cbn.com/video/news/07/05/23/dot-secretary-defends-love-the-philippines-campaign',\n",
       " 'https://news.abs-cbn.com/video/news/07/05/23/jad-dera-admits-to-taking-trips-outside-nbi-facility',\n",
       " 'https://news.abs-cbn.com/video/news/07/05/23/jad-dera-aminadong-ilang-beses-naglabas-pasok-sa-kulungan',\n",
       " 'https://news.abs-cbn.com/video/news/07/05/23/pnp-turn-over-7-foreign-fugitives-arrested-in-pogo-raid',\n",
       " 'https://news.abs-cbn.com/video/news/07/06/23/4-kabataan-tinitingnan-kung-makakapagbigay-linaw-sa-mindoro-student-slay',\n",
       " 'https://news.abs-cbn.com/video/news/07/06/23/doj-to-probe-nbi-officials-who-allowed-dera-to-leave-detention',\n",
       " 'https://news.abs-cbn.com/video/news/07/06/23/hop-on-hop-off-tourist-bus-umarangkada-na',\n",
       " 'https://news.abs-cbn.com/video/news/07/06/23/japan-calls-out-china-for-dangerous-behavior',\n",
       " 'https://news.abs-cbn.com/video/news/07/06/23/kaso-sa-nagtangkang-manggahasa-sa-estudyante-inihahanda-na',\n",
       " 'https://news.abs-cbn.com/video/news/07/06/23/less-water-to-be-allocated-for-domestic-use-irrigation',\n",
       " 'https://news.abs-cbn.com/video/news/07/06/23/pag-perform-ng-sexy-dancer-sa-nbi-command-conference-iniimbestigahan',\n",
       " 'https://news.abs-cbn.com/video/news/07/06/23/pagbaba-ng-lebel-ng-tubig-sa-angat-dam-pinangangambahan',\n",
       " 'https://news.abs-cbn.com/video/news/07/06/23/ph-us-marines-conduct-largest-joint-exercise',\n",
       " 'https://news.abs-cbn.com/video/news/07/06/23/pinakamainit-na-average-air-temperature-sa-buong-mundo-muling-naitala',\n",
       " 'https://news.abs-cbn.com/video/news/07/06/23/tricycle-driver-patay-matapos-manlaban-umano-sa-qc',\n",
       " 'https://news.abs-cbn.com/video/news/07/07/23/awtoridad-may-tinututukan-sa-tangkang-panghahalay-sa-up-diliman',\n",
       " 'https://news.abs-cbn.com/video/news/07/07/23/bagong-batas-buburahin-ang-utang-ng-land-reform-beneficiaries',\n",
       " 'https://news.abs-cbn.com/video/news/07/07/23/higit-20-katao-naging-biktima-ng-sex-trafficking-ring-sa-bulacan',\n",
       " 'https://news.abs-cbn.com/video/news/07/07/23/higit-500000-customer-ng-maynilad-apektado-ng-paparating-na-water-interruption',\n",
       " 'https://news.abs-cbn.com/video/news/07/07/23/init-nagiging-sanhi-na-ng-sakit-ng-ilan',\n",
       " 'https://news.abs-cbn.com/video/news/07/07/23/mga-naipit-sa-gulo-sa-sudan-humihingi-ng-saklolo',\n",
       " 'https://news.abs-cbn.com/video/news/07/07/23/nbi-nag-sorry-ukol-sa-sayawan-sa-kanilang-socials-night',\n",
       " 'https://news.abs-cbn.com/video/news/07/08/23/csc-may-paalala-matapos-ang-socials-night-ng-nbi',\n",
       " 'https://news.abs-cbn.com/video/news/07/08/23/de-lima-slams-prosecutors-for-seeking-judges-inhibition',\n",
       " 'https://news.abs-cbn.com/video/news/07/08/23/ilang-palayan-sa-occidental-mindoro-natutuyo-na',\n",
       " 'https://news.abs-cbn.com/video/news/07/08/23/marcos-jr-oks-waiving-of-agrarian-reform-beneficiaries-unpaid-loans',\n",
       " 'https://news.abs-cbn.com/video/news/07/08/23/mwss-may-bawas-alokasyon-ng-tubig',\n",
       " 'https://news.abs-cbn.com/video/news/07/08/23/us-german-diplomats-slam-chinese-swarming-in-wps',\n",
       " 'https://news.abs-cbn.com/video/news/07/09/23/bentahan-ng-drum-lumakas-dahil-sa-inaasahang-water-interruption',\n",
       " 'https://news.abs-cbn.com/video/news/07/09/23/beteranong-mamamahayag-na-si-amando-doronila-pumanaw-na',\n",
       " 'https://news.abs-cbn.com/video/news/07/09/23/mga-barko-ng-china-nagkumpulan-sa-iroquois-reef-sabina-shoal-afp',\n",
       " 'https://news.abs-cbn.com/video/news/07/09/23/suspek-sa-pangmomolestiya-sa-davao-hospital-timbog',\n",
       " 'https://news.abs-cbn.com/video/news/07/10/23/4-huli-sa-mga-insidente-ng-pagnanakaw-ng-motor-sa-qc',\n",
       " 'https://news.abs-cbn.com/video/news/07/10/23/6-lungsod-sa-ncr-sapul-ng-maynilad-water-interruption',\n",
       " 'https://news.abs-cbn.com/video/news/07/10/23/batang-natusok-ng-gunting-sa-ulo-nagpapagaling-na',\n",
       " 'https://news.abs-cbn.com/video/news/07/10/23/doh-may-payo-para-iwas-heat-stroke',\n",
       " 'https://news.abs-cbn.com/video/news/07/10/23/doj-chief-sinabing-di-sapat-ang-koordinasyon-sa-las-pias-pogo-raid',\n",
       " 'https://news.abs-cbn.com/video/news/07/10/23/p200-k-alok-sa-may-impormasyon-sa-namaril-sa-dpwh-opisyal',\n",
       " 'https://news.abs-cbn.com/video/news/07/10/23/pagpasok-ng-mga-barko-ng-china-eroplano-ng-us-pinuna',\n",
       " 'https://news.abs-cbn.com/video/news/07/10/23/suspek-sa-illegal-recruitment-timbog-sa-caloocan',\n",
       " 'https://news.abs-cbn.com/video/news/07/11/23/6-metro-manila-cities-to-experience-water-supply-interruptions',\n",
       " 'https://news.abs-cbn.com/video/news/07/11/23/9-bata-kasama-sa-mga-pinoy-sa-sudan-na-nagpapatulong-makauwi',\n",
       " 'https://news.abs-cbn.com/video/news/07/11/23/australia-nagbibigay-ng-scholarship-sa-mga-pinoy',\n",
       " 'https://news.abs-cbn.com/video/news/07/11/23/denr-eyes-water-conservation-through-repair-of-leaking-pipes',\n",
       " 'https://news.abs-cbn.com/video/news/07/11/23/driver-na-sangkot-sa-karambola-sa-cavite-kinasuhan',\n",
       " 'https://news.abs-cbn.com/video/news/07/11/23/imee-questions-us-air-activity-within-ph-airspace',\n",
       " 'https://news.abs-cbn.com/video/news/07/11/23/milyong-pisong-halaga-ng-tubig-nasasayang-sa-ilang-govt-offices-denr',\n",
       " 'https://news.abs-cbn.com/video/news/07/11/23/opening-of-ncrs-first-subway-pushed-back-to-2029',\n",
       " 'https://news.abs-cbn.com/video/news/07/11/23/paf-us-planes-followed-proper-channels-within-ph-airspace',\n",
       " 'https://news.abs-cbn.com/video/news/07/11/23/pagdami-ng-us-planes-sa-pilipinas-dahil-sa-military-exercises-afp',\n",
       " 'https://news.abs-cbn.com/video/news/07/11/23/pnp-denies-remulla-allegation-over-las-pias-raid',\n",
       " 'https://news.abs-cbn.com/video/news/07/11/23/tree-planting-isinagawa-bilang-pagdiriwang-ng-arbor-day',\n",
       " 'https://news.abs-cbn.com/video/news/07/11/23/water-interruption-sa-ilang-lugar-sa-ncr-pinaghahandaan'}"
      ]
     },
     "execution_count": 96,
     "metadata": {},
     "output_type": "execute_result"
    }
   ],
   "source": [
    "temporary.sort()\n",
    "actual=set(temporary)\n",
    "actual"
   ]
  },
  {
   "cell_type": "code",
   "execution_count": 100,
   "id": "a0d406f1",
   "metadata": {},
   "outputs": [
    {
     "data": {
      "text/plain": [
       "259"
      ]
     },
     "execution_count": 100,
     "metadata": {},
     "output_type": "execute_result"
    }
   ],
   "source": [
    "actual = [link for link in actual if not link.startswith('https://news.abs-cbn.com/video/') and not link.startswith('https://news.abs-cbn.com/news/multimedia/photo/')]\n",
    "len(actual)"
   ]
  },
  {
   "cell_type": "code",
   "execution_count": 32,
   "id": "3c01e33e",
   "metadata": {
    "collapsed": true
   },
   "outputs": [
    {
     "ename": "AttributeError",
     "evalue": "'_csv.writer' object has no attribute 'writecolumn'",
     "output_type": "error",
     "traceback": [
      "\u001b[0;31m---------------------------------------------------------------------------\u001b[0m",
      "\u001b[0;31mAttributeError\u001b[0m                            Traceback (most recent call last)",
      "Input \u001b[0;32mIn [32]\u001b[0m, in \u001b[0;36m<cell line: 3>\u001b[0;34m()\u001b[0m\n\u001b[1;32m      3\u001b[0m \u001b[38;5;28;01mwith\u001b[39;00m \u001b[38;5;28mopen\u001b[39m(\u001b[38;5;124m'\u001b[39m\u001b[38;5;124mabs_anc.csv\u001b[39m\u001b[38;5;124m'\u001b[39m, \u001b[38;5;124m'\u001b[39m\u001b[38;5;124mw\u001b[39m\u001b[38;5;124m'\u001b[39m, newline\u001b[38;5;241m=\u001b[39m\u001b[38;5;124m'\u001b[39m\u001b[38;5;124m'\u001b[39m) \u001b[38;5;28;01mas\u001b[39;00m file:\n\u001b[1;32m      4\u001b[0m     writer \u001b[38;5;241m=\u001b[39m csv\u001b[38;5;241m.\u001b[39mwriter(file)\n\u001b[0;32m----> 5\u001b[0m     \u001b[43mwriter\u001b[49m\u001b[38;5;241;43m.\u001b[39;49m\u001b[43mwritecolumn\u001b[49m(temporary)\n",
      "\u001b[0;31mAttributeError\u001b[0m: '_csv.writer' object has no attribute 'writecolumn'"
     ]
    }
   ],
   "source": [
    "import csv\n",
    "\n",
    "with open('abs_anc.csv', 'w', newline='') as file:\n",
    "    writer = csv.writer(file)\n",
    "    writer.write(temporary)"
   ]
  },
  {
   "cell_type": "code",
   "execution_count": 34,
   "id": "34d3f437",
   "metadata": {},
   "outputs": [
    {
     "data": {
      "text/plain": [
       "380"
      ]
     },
     "execution_count": 34,
     "metadata": {},
     "output_type": "execute_result"
    }
   ],
   "source": [
    "len(temporary)"
   ]
  },
  {
   "cell_type": "markdown",
   "id": "b9e00c7c",
   "metadata": {},
   "source": [
    "# Links"
   ]
  },
  {
   "cell_type": "code",
   "execution_count": 52,
   "id": "30438661",
   "metadata": {},
   "outputs": [],
   "source": [
    "pause = 10 \n",
    "abs_anc_df = pd.DataFrame(columns=['Link', 'Paragraph'])"
   ]
  },
  {
   "cell_type": "code",
   "execution_count": 101,
   "id": "13c760f7",
   "metadata": {},
   "outputs": [
    {
     "name": "stdout",
     "output_type": "stream",
     "text": [
      "Scraping  https://news.abs-cbn.com/sports/07/08/23/pba-mendoza-hopes-to-get-picked-by-converge\n"
     ]
    },
    {
     "name": "stderr",
     "output_type": "stream",
     "text": [
      "/var/folders/j8/_c_8d2dj6jqgrrq7t6t4pz3w0000gn/T/ipykernel_12554/298484946.py:3: DeprecationWarning: executable_path has been deprecated, please pass in a Service object\n",
      "  driver=webdriver.Chrome(driver_path)\n",
      "/var/folders/j8/_c_8d2dj6jqgrrq7t6t4pz3w0000gn/T/ipykernel_12554/298484946.py:19: FutureWarning: The frame.append method is deprecated and will be removed from pandas in a future version. Use pandas.concat instead.\n",
      "  abs_anc_df = abs_anc_df.append({'Link': link, 'Paragraph': concat_pars}, ignore_index=True)\n",
      "/var/folders/j8/_c_8d2dj6jqgrrq7t6t4pz3w0000gn/T/ipykernel_12554/298484946.py:3: DeprecationWarning: executable_path has been deprecated, please pass in a Service object\n",
      "  driver=webdriver.Chrome(driver_path)\n"
     ]
    },
    {
     "name": "stdout",
     "output_type": "stream",
     "text": [
      "Scraping  https://news.abs-cbn.com/news/07/07/23/water-interruption-to-affect-over-500000-maynilad-customers\n"
     ]
    },
    {
     "name": "stderr",
     "output_type": "stream",
     "text": [
      "/var/folders/j8/_c_8d2dj6jqgrrq7t6t4pz3w0000gn/T/ipykernel_12554/298484946.py:19: FutureWarning: The frame.append method is deprecated and will be removed from pandas in a future version. Use pandas.concat instead.\n",
      "  abs_anc_df = abs_anc_df.append({'Link': link, 'Paragraph': concat_pars}, ignore_index=True)\n",
      "/var/folders/j8/_c_8d2dj6jqgrrq7t6t4pz3w0000gn/T/ipykernel_12554/298484946.py:3: DeprecationWarning: executable_path has been deprecated, please pass in a Service object\n",
      "  driver=webdriver.Chrome(driver_path)\n"
     ]
    },
    {
     "name": "stdout",
     "output_type": "stream",
     "text": [
      "Scraping  https://news.abs-cbn.com/business/07/10/23/us-companies-vow-to-boost-investments-in-philippines\n"
     ]
    },
    {
     "name": "stderr",
     "output_type": "stream",
     "text": [
      "/var/folders/j8/_c_8d2dj6jqgrrq7t6t4pz3w0000gn/T/ipykernel_12554/298484946.py:19: FutureWarning: The frame.append method is deprecated and will be removed from pandas in a future version. Use pandas.concat instead.\n",
      "  abs_anc_df = abs_anc_df.append({'Link': link, 'Paragraph': concat_pars}, ignore_index=True)\n",
      "/var/folders/j8/_c_8d2dj6jqgrrq7t6t4pz3w0000gn/T/ipykernel_12554/298484946.py:3: DeprecationWarning: executable_path has been deprecated, please pass in a Service object\n",
      "  driver=webdriver.Chrome(driver_path)\n"
     ]
    },
    {
     "name": "stdout",
     "output_type": "stream",
     "text": [
      "Scraping  https://news.abs-cbn.com/sports/07/11/23/pvl-cignal-makes-short-work-vs-winless-foton\n"
     ]
    },
    {
     "ename": "KeyboardInterrupt",
     "evalue": "",
     "output_type": "error",
     "traceback": [
      "\u001b[0;31m---------------------------------------------------------------------------\u001b[0m",
      "\u001b[0;31mKeyboardInterrupt\u001b[0m                         Traceback (most recent call last)",
      "Input \u001b[0;32mIn [101]\u001b[0m, in \u001b[0;36m<cell line: 1>\u001b[0;34m()\u001b[0m\n\u001b[1;32m      3\u001b[0m driver\u001b[38;5;241m=\u001b[39mwebdriver\u001b[38;5;241m.\u001b[39mChrome(driver_path)\n\u001b[1;32m      4\u001b[0m driver\u001b[38;5;241m.\u001b[39mget(link)\n\u001b[0;32m----> 6\u001b[0m \u001b[43mtime\u001b[49m\u001b[38;5;241;43m.\u001b[39;49m\u001b[43msleep\u001b[49m\u001b[43m \u001b[49m\u001b[43m(\u001b[49m\u001b[43mpause\u001b[49m\u001b[43m)\u001b[49m\n\u001b[1;32m      8\u001b[0m checker \u001b[38;5;241m=\u001b[39m \u001b[38;5;28;01mTrue\u001b[39;00m\n\u001b[1;32m      9\u001b[0m paragraphs \u001b[38;5;241m=\u001b[39m []  \n",
      "\u001b[0;31mKeyboardInterrupt\u001b[0m: "
     ]
    }
   ],
   "source": [
    "for link in actual:\n",
    "    print ('Scraping ', link)\n",
    "    driver=webdriver.Chrome(driver_path)\n",
    "    driver.get(link)\n",
    "    \n",
    "    time.sleep (pause)\n",
    "    \n",
    "    checker = True\n",
    "    paragraphs = []  \n",
    "    while checker: \n",
    "        content = driver.find_element(By.XPATH, '//div[@class=\"article-content\"][1]')\n",
    "        pars = content.find_elements(By.XPATH, 'p')\n",
    "        for par in pars:\n",
    "            text = par.text.strip()\n",
    "            if text:\n",
    "                paragraphs.append(text)\n",
    "        concat_pars = ' '.join(paragraphs)\n",
    "        checker=False\n",
    "    abs_anc_df = abs_anc_df.append({'Link': link, 'Paragraph': concat_pars}, ignore_index=True)"
   ]
  },
  {
   "cell_type": "code",
   "execution_count": 89,
   "id": "5150d000",
   "metadata": {},
   "outputs": [
    {
     "data": {
      "text/plain": [
       "'MANILA -- Aside from suffering a heartbreaking five-set loss to F2 Logistics, the Choco Mucho Flying Titans also had to worry about their teammate, Des Cheng. Cheng missed the deciding set as she had to be rushed to a nearby hospital after suffering from what appeared to be heat exhaustion, due to the sweltering condition at the Philsports Arena in Pasig City on Tuesday. The open spiker of the Flying Titans was first stretchered out of the playing court in the latter part of the fourth set. Several minutes after, Cheng was transported to the hospital through an ambulance. According to head coach Dante Alinsunurin, his player had to be brought to a medical facility to hydrate herself. The PVL later expressed its apologies \"for the inconvenience caused by the breakdown of the air conditioning system at Philsports Arena due to the high number of people inside.\" \"We understand the discomfort this may have caused and assure you that the Philippine Sports Commission is taking immediate action to address the issue,\" the league said. Both teams had to endure extreme heat in the venue which was filled with 7,067 volleyball fans catching the clash of the titans in PVL. In end, F2 Logistics escaped the Flying Titans via a 21-25, 25-17, 17-25, 25-21, 18-16 hard-earned win. According to Choco Mucho open spiker Sisi Rondina, Cheng is already in a good condition as she has been able to message in their group chat. \"Si Des kasi talagang pawisin siya every practice parang nakaka-eight shirts siya. Ngayon ata parang nakatatlo yata siya or dalawa yung lagi niyang dalang uniform,\" Alinsunurin told reporters after falling short against the Cargo Movers in a five-set classic. Cheng was having a solid performance in the match with 13 points -- the second top scorer in the team behind Rondina\\'s 28 points -- despite playing in just four sets. The PVL said that PSC executive director Atty. Guillermo Iroy has already ordered a replacement for the venue\\'s chiller No. 3 \"to ensure a more comfortable environment for the next gamedays.\"'"
      ]
     },
     "execution_count": 89,
     "metadata": {},
     "output_type": "execute_result"
    }
   ],
   "source": [
    "concat_pars"
   ]
  },
  {
   "cell_type": "code",
   "execution_count": 102,
   "id": "1a8d6eab",
   "metadata": {},
   "outputs": [
    {
     "data": {
      "text/html": [
       "<div>\n",
       "<style scoped>\n",
       "    .dataframe tbody tr th:only-of-type {\n",
       "        vertical-align: middle;\n",
       "    }\n",
       "\n",
       "    .dataframe tbody tr th {\n",
       "        vertical-align: top;\n",
       "    }\n",
       "\n",
       "    .dataframe thead th {\n",
       "        text-align: right;\n",
       "    }\n",
       "</style>\n",
       "<table border=\"1\" class=\"dataframe\">\n",
       "  <thead>\n",
       "    <tr style=\"text-align: right;\">\n",
       "      <th></th>\n",
       "      <th>Link</th>\n",
       "      <th>Paragraph</th>\n",
       "    </tr>\n",
       "  </thead>\n",
       "  <tbody>\n",
       "    <tr>\n",
       "      <th>0</th>\n",
       "      <td>https://news.abs-cbn.com/sports/07/12/23/des-c...</td>\n",
       "      <td>Home  &gt;  Sports Posted at Jul 12 2023 12:15 AM...</td>\n",
       "    </tr>\n",
       "    <tr>\n",
       "      <th>1</th>\n",
       "      <td>https://news.abs-cbn.com/sports/07/12/23/des-c...</td>\n",
       "      <td>Home  &gt;  Sports Posted at Jul 12 2023 12:15 AM...</td>\n",
       "    </tr>\n",
       "    <tr>\n",
       "      <th>2</th>\n",
       "      <td>https://news.abs-cbn.com/sports/07/12/23/des-c...</td>\n",
       "      <td>MANILA -- Aside from suffering a heartbreaking...</td>\n",
       "    </tr>\n",
       "    <tr>\n",
       "      <th>3</th>\n",
       "      <td>https://news.abs-cbn.com/sports/07/08/23/pba-m...</td>\n",
       "      <td>Jolo Mendoza likes playing for Converge and ho...</td>\n",
       "    </tr>\n",
       "    <tr>\n",
       "      <th>4</th>\n",
       "      <td>https://news.abs-cbn.com/news/07/07/23/water-i...</td>\n",
       "      <td>MANILA — More than 500,000 Maynilad customers ...</td>\n",
       "    </tr>\n",
       "    <tr>\n",
       "      <th>5</th>\n",
       "      <td>https://news.abs-cbn.com/business/07/10/23/us-...</td>\n",
       "      <td>MANILA — A group of companies from the United ...</td>\n",
       "    </tr>\n",
       "  </tbody>\n",
       "</table>\n",
       "</div>"
      ],
      "text/plain": [
       "                                                Link  \\\n",
       "0  https://news.abs-cbn.com/sports/07/12/23/des-c...   \n",
       "1  https://news.abs-cbn.com/sports/07/12/23/des-c...   \n",
       "2  https://news.abs-cbn.com/sports/07/12/23/des-c...   \n",
       "3  https://news.abs-cbn.com/sports/07/08/23/pba-m...   \n",
       "4  https://news.abs-cbn.com/news/07/07/23/water-i...   \n",
       "5  https://news.abs-cbn.com/business/07/10/23/us-...   \n",
       "\n",
       "                                           Paragraph  \n",
       "0  Home  >  Sports Posted at Jul 12 2023 12:15 AM...  \n",
       "1  Home  >  Sports Posted at Jul 12 2023 12:15 AM...  \n",
       "2  MANILA -- Aside from suffering a heartbreaking...  \n",
       "3  Jolo Mendoza likes playing for Converge and ho...  \n",
       "4  MANILA — More than 500,000 Maynilad customers ...  \n",
       "5  MANILA — A group of companies from the United ...  "
      ]
     },
     "execution_count": 102,
     "metadata": {},
     "output_type": "execute_result"
    }
   ],
   "source": [
    "abs_anc_df"
   ]
  },
  {
   "cell_type": "code",
   "execution_count": null,
   "id": "04596b20",
   "metadata": {},
   "outputs": [],
   "source": []
  }
 ],
 "metadata": {
  "kernelspec": {
   "display_name": "Python 3 (ipykernel)",
   "language": "python",
   "name": "python3"
  },
  "language_info": {
   "codemirror_mode": {
    "name": "ipython",
    "version": 3
   },
   "file_extension": ".py",
   "mimetype": "text/x-python",
   "name": "python",
   "nbconvert_exporter": "python",
   "pygments_lexer": "ipython3",
   "version": "3.9.12"
  }
 },
 "nbformat": 4,
 "nbformat_minor": 5
}
