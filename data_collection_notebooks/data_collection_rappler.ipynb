{
 "cells": [
  {
   "cell_type": "code",
   "execution_count": 2,
   "id": "7194c52a",
   "metadata": {},
   "outputs": [],
   "source": [
    "from bs4 import BeautifulSoup\n",
    "import requests\n",
    "\n",
    "from selenium import webdriver\n",
    "from selenium.webdriver.common.keys import Keys\n",
    "from selenium.webdriver.common.by import By\n",
    "\n",
    "import time\n",
    "import pandas as pd\n",
    "import numpy as np"
   ]
  },
  {
   "cell_type": "code",
   "execution_count": 3,
   "id": "805a37c5",
   "metadata": {},
   "outputs": [],
   "source": [
    "driver_path=\"/Users/beatricebanzon/Desktop/dlsu/col/2/T3 22.23/DATA102/chromedriver_mac_arm64/chromedriver.exe\""
   ]
  },
  {
   "cell_type": "code",
   "execution_count": 4,
   "id": "b51531bc",
   "metadata": {},
   "outputs": [],
   "source": [
    "counter = 1\n",
    "pause = 5\n",
    "master = []\n",
    "checker = True\n",
    "prev_length = 0\n",
    "articles=[]\n",
    "heads=[]"
   ]
  },
  {
   "cell_type": "code",
   "execution_count": 9,
   "id": "387fd0d3",
   "metadata": {
    "collapsed": true
   },
   "outputs": [
    {
     "name": "stdout",
     "output_type": "stream",
     "text": [
      "Scraping https://www.rappler.com/latest/page/182/\n"
     ]
    },
    {
     "name": "stderr",
     "output_type": "stream",
     "text": [
      "/var/folders/j8/_c_8d2dj6jqgrrq7t6t4pz3w0000gn/T/ipykernel_29854/2835982583.py:4: DeprecationWarning: executable_path has been deprecated, please pass in a Service object\n",
      "  driver=webdriver.Chrome(driver_path)\n"
     ]
    },
    {
     "name": "stdout",
     "output_type": "stream",
     "text": [
      "Scraping https://www.rappler.com/latest/page/183/\n",
      "Scraping https://www.rappler.com/latest/page/184/\n",
      "Scraping https://www.rappler.com/latest/page/185/\n",
      "Scraping https://www.rappler.com/latest/page/186/\n",
      "Scraping https://www.rappler.com/latest/page/187/\n",
      "Scraping https://www.rappler.com/latest/page/188/\n",
      "Scraping https://www.rappler.com/latest/page/189/\n",
      "Scraping https://www.rappler.com/latest/page/190/\n",
      "Scraping https://www.rappler.com/latest/page/191/\n",
      "Scraping https://www.rappler.com/latest/page/192/\n",
      "Scraping https://www.rappler.com/latest/page/193/\n",
      "Scraping https://www.rappler.com/latest/page/194/\n",
      "Scraping https://www.rappler.com/latest/page/195/\n",
      "Scraping https://www.rappler.com/latest/page/196/\n",
      "Scraping https://www.rappler.com/latest/page/197/\n",
      "Scraping https://www.rappler.com/latest/page/198/\n",
      "Scraping https://www.rappler.com/latest/page/199/\n",
      "Scraping https://www.rappler.com/latest/page/200/\n",
      "Scraping https://www.rappler.com/latest/page/201/\n",
      "Scraping https://www.rappler.com/latest/page/202/\n",
      "Scraping https://www.rappler.com/latest/page/203/\n",
      "Scraping https://www.rappler.com/latest/page/204/\n",
      "Scraping https://www.rappler.com/latest/page/205/\n",
      "Scraping https://www.rappler.com/latest/page/206/\n"
     ]
    },
    {
     "ename": "WebDriverException",
     "evalue": "Message: disconnected: not connected to DevTools\n  (failed to check if window was closed: disconnected: not connected to DevTools)\n  (Session info: chrome=115.0.5790.90)\nStacktrace:\n0   chromedriver                        0x00000001082986b8 chromedriver + 4937400\n1   chromedriver                        0x000000010828fb73 chromedriver + 4901747\n2   chromedriver                        0x0000000107e4d616 chromedriver + 435734\n3   chromedriver                        0x0000000107e33bc1 chromedriver + 330689\n4   chromedriver                        0x0000000107e33923 chromedriver + 330019\n5   chromedriver                        0x0000000107e4f262 chromedriver + 442978\n6   chromedriver                        0x0000000107ecf56e chromedriver + 968046\n7   chromedriver                        0x0000000107eb4de3 chromedriver + 859619\n8   chromedriver                        0x0000000107e82d7f chromedriver + 654719\n9   chromedriver                        0x0000000107e840de chromedriver + 659678\n10  chromedriver                        0x00000001082542ad chromedriver + 4657837\n11  chromedriver                        0x0000000108259130 chromedriver + 4677936\n12  chromedriver                        0x000000010825fdef chromedriver + 4705775\n13  chromedriver                        0x000000010825a05a chromedriver + 4681818\n14  chromedriver                        0x000000010822c92c chromedriver + 4495660\n15  chromedriver                        0x0000000108277838 chromedriver + 4802616\n16  chromedriver                        0x00000001082779b7 chromedriver + 4802999\n17  chromedriver                        0x000000010828899f chromedriver + 4872607\n18  libsystem_pthread.dylib             0x00007ff802e704e1 _pthread_start + 125\n19  libsystem_pthread.dylib             0x00007ff802e6bf6b thread_start + 15\n",
     "output_type": "error",
     "traceback": [
      "\u001b[0;31m---------------------------------------------------------------------------\u001b[0m",
      "\u001b[0;31mWebDriverException\u001b[0m                        Traceback (most recent call last)",
      "Input \u001b[0;32mIn [9]\u001b[0m, in \u001b[0;36m<cell line: 1>\u001b[0;34m()\u001b[0m\n\u001b[1;32m      5\u001b[0m driver\u001b[38;5;241m.\u001b[39mget(url_rap)\n\u001b[1;32m      7\u001b[0m time\u001b[38;5;241m.\u001b[39msleep(pause)\n\u001b[0;32m----> 9\u001b[0m temp \u001b[38;5;241m=\u001b[39m \u001b[43mdriver\u001b[49m\u001b[38;5;241;43m.\u001b[39;49m\u001b[43mfind_elements\u001b[49m\u001b[43m(\u001b[49m\u001b[43mBy\u001b[49m\u001b[38;5;241;43m.\u001b[39;49m\u001b[43mXPATH\u001b[49m\u001b[43m,\u001b[49m\u001b[43m \u001b[49m\u001b[38;5;124;43m'\u001b[39;49m\u001b[38;5;124;43m//main[@id=\u001b[39;49m\u001b[38;5;124;43m\"\u001b[39;49m\u001b[38;5;124;43mprimary\u001b[39;49m\u001b[38;5;124;43m\"\u001b[39;49m\u001b[38;5;124;43m]\u001b[39;49m\u001b[38;5;124;43m'\u001b[39;49m\u001b[43m)\u001b[49m\n\u001b[1;32m     11\u001b[0m \u001b[38;5;28;01mfor\u001b[39;00m each \u001b[38;5;129;01min\u001b[39;00m temp[\u001b[38;5;241m0\u001b[39m]\u001b[38;5;241m.\u001b[39mfind_elements(By\u001b[38;5;241m.\u001b[39mXPATH, \u001b[38;5;124m'\u001b[39m\u001b[38;5;124m//article//h2//a\u001b[39m\u001b[38;5;124m'\u001b[39m):\n\u001b[1;32m     12\u001b[0m     link \u001b[38;5;241m=\u001b[39m each\u001b[38;5;241m.\u001b[39mget_attribute(\u001b[38;5;124m\"\u001b[39m\u001b[38;5;124mhref\u001b[39m\u001b[38;5;124m\"\u001b[39m)\n",
      "File \u001b[0;32m~/opt/anaconda3/lib/python3.9/site-packages/selenium/webdriver/remote/webdriver.py:861\u001b[0m, in \u001b[0;36mWebDriver.find_elements\u001b[0;34m(self, by, value)\u001b[0m\n\u001b[1;32m    857\u001b[0m     value \u001b[38;5;241m=\u001b[39m \u001b[38;5;124mf\u001b[39m\u001b[38;5;124m'\u001b[39m\u001b[38;5;124m[name=\u001b[39m\u001b[38;5;124m\"\u001b[39m\u001b[38;5;132;01m{\u001b[39;00mvalue\u001b[38;5;132;01m}\u001b[39;00m\u001b[38;5;124m\"\u001b[39m\u001b[38;5;124m]\u001b[39m\u001b[38;5;124m'\u001b[39m\n\u001b[1;32m    859\u001b[0m \u001b[38;5;66;03m# Return empty list if driver returns null\u001b[39;00m\n\u001b[1;32m    860\u001b[0m \u001b[38;5;66;03m# See https://github.com/SeleniumHQ/selenium/issues/4555\u001b[39;00m\n\u001b[0;32m--> 861\u001b[0m \u001b[38;5;28;01mreturn\u001b[39;00m \u001b[38;5;28;43mself\u001b[39;49m\u001b[38;5;241;43m.\u001b[39;49m\u001b[43mexecute\u001b[49m\u001b[43m(\u001b[49m\u001b[43mCommand\u001b[49m\u001b[38;5;241;43m.\u001b[39;49m\u001b[43mFIND_ELEMENTS\u001b[49m\u001b[43m,\u001b[49m\u001b[43m \u001b[49m\u001b[43m{\u001b[49m\u001b[38;5;124;43m\"\u001b[39;49m\u001b[38;5;124;43musing\u001b[39;49m\u001b[38;5;124;43m\"\u001b[39;49m\u001b[43m:\u001b[49m\u001b[43m \u001b[49m\u001b[43mby\u001b[49m\u001b[43m,\u001b[49m\u001b[43m \u001b[49m\u001b[38;5;124;43m\"\u001b[39;49m\u001b[38;5;124;43mvalue\u001b[39;49m\u001b[38;5;124;43m\"\u001b[39;49m\u001b[43m:\u001b[49m\u001b[43m \u001b[49m\u001b[43mvalue\u001b[49m\u001b[43m}\u001b[49m\u001b[43m)\u001b[49m[\u001b[38;5;124m\"\u001b[39m\u001b[38;5;124mvalue\u001b[39m\u001b[38;5;124m\"\u001b[39m] \u001b[38;5;129;01mor\u001b[39;00m []\n",
      "File \u001b[0;32m~/opt/anaconda3/lib/python3.9/site-packages/selenium/webdriver/remote/webdriver.py:440\u001b[0m, in \u001b[0;36mWebDriver.execute\u001b[0;34m(self, driver_command, params)\u001b[0m\n\u001b[1;32m    438\u001b[0m response \u001b[38;5;241m=\u001b[39m \u001b[38;5;28mself\u001b[39m\u001b[38;5;241m.\u001b[39mcommand_executor\u001b[38;5;241m.\u001b[39mexecute(driver_command, params)\n\u001b[1;32m    439\u001b[0m \u001b[38;5;28;01mif\u001b[39;00m response:\n\u001b[0;32m--> 440\u001b[0m     \u001b[38;5;28;43mself\u001b[39;49m\u001b[38;5;241;43m.\u001b[39;49m\u001b[43merror_handler\u001b[49m\u001b[38;5;241;43m.\u001b[39;49m\u001b[43mcheck_response\u001b[49m\u001b[43m(\u001b[49m\u001b[43mresponse\u001b[49m\u001b[43m)\u001b[49m\n\u001b[1;32m    441\u001b[0m     response[\u001b[38;5;124m\"\u001b[39m\u001b[38;5;124mvalue\u001b[39m\u001b[38;5;124m\"\u001b[39m] \u001b[38;5;241m=\u001b[39m \u001b[38;5;28mself\u001b[39m\u001b[38;5;241m.\u001b[39m_unwrap_value(response\u001b[38;5;241m.\u001b[39mget(\u001b[38;5;124m\"\u001b[39m\u001b[38;5;124mvalue\u001b[39m\u001b[38;5;124m\"\u001b[39m, \u001b[38;5;28;01mNone\u001b[39;00m))\n\u001b[1;32m    442\u001b[0m     \u001b[38;5;28;01mreturn\u001b[39;00m response\n",
      "File \u001b[0;32m~/opt/anaconda3/lib/python3.9/site-packages/selenium/webdriver/remote/errorhandler.py:245\u001b[0m, in \u001b[0;36mErrorHandler.check_response\u001b[0;34m(self, response)\u001b[0m\n\u001b[1;32m    243\u001b[0m         alert_text \u001b[38;5;241m=\u001b[39m value[\u001b[38;5;124m\"\u001b[39m\u001b[38;5;124malert\u001b[39m\u001b[38;5;124m\"\u001b[39m]\u001b[38;5;241m.\u001b[39mget(\u001b[38;5;124m\"\u001b[39m\u001b[38;5;124mtext\u001b[39m\u001b[38;5;124m\"\u001b[39m)\n\u001b[1;32m    244\u001b[0m     \u001b[38;5;28;01mraise\u001b[39;00m exception_class(message, screen, stacktrace, alert_text)  \u001b[38;5;66;03m# type: ignore[call-arg]  # mypy is not smart enough here\u001b[39;00m\n\u001b[0;32m--> 245\u001b[0m \u001b[38;5;28;01mraise\u001b[39;00m exception_class(message, screen, stacktrace)\n",
      "\u001b[0;31mWebDriverException\u001b[0m: Message: disconnected: not connected to DevTools\n  (failed to check if window was closed: disconnected: not connected to DevTools)\n  (Session info: chrome=115.0.5790.90)\nStacktrace:\n0   chromedriver                        0x00000001082986b8 chromedriver + 4937400\n1   chromedriver                        0x000000010828fb73 chromedriver + 4901747\n2   chromedriver                        0x0000000107e4d616 chromedriver + 435734\n3   chromedriver                        0x0000000107e33bc1 chromedriver + 330689\n4   chromedriver                        0x0000000107e33923 chromedriver + 330019\n5   chromedriver                        0x0000000107e4f262 chromedriver + 442978\n6   chromedriver                        0x0000000107ecf56e chromedriver + 968046\n7   chromedriver                        0x0000000107eb4de3 chromedriver + 859619\n8   chromedriver                        0x0000000107e82d7f chromedriver + 654719\n9   chromedriver                        0x0000000107e840de chromedriver + 659678\n10  chromedriver                        0x00000001082542ad chromedriver + 4657837\n11  chromedriver                        0x0000000108259130 chromedriver + 4677936\n12  chromedriver                        0x000000010825fdef chromedriver + 4705775\n13  chromedriver                        0x000000010825a05a chromedriver + 4681818\n14  chromedriver                        0x000000010822c92c chromedriver + 4495660\n15  chromedriver                        0x0000000108277838 chromedriver + 4802616\n16  chromedriver                        0x00000001082779b7 chromedriver + 4802999\n17  chromedriver                        0x000000010828899f chromedriver + 4872607\n18  libsystem_pthread.dylib             0x00007ff802e704e1 _pthread_start + 125\n19  libsystem_pthread.dylib             0x00007ff802e6bf6b thread_start + 15\n"
     ]
    }
   ],
   "source": [
    "while checker:\n",
    "    url_rap=f\"https://www.rappler.com/latest/page/{counter}/\"\n",
    "    print ('Scraping', url_rap)\n",
    "    driver=webdriver.Chrome(driver_path)\n",
    "    driver.get(url_rap)\n",
    "    \n",
    "    time.sleep(pause)\n",
    "    \n",
    "    temp = driver.find_elements(By.XPATH, '//main[@id=\"primary\"]')\n",
    "\n",
    "    for each in temp[0].find_elements(By.XPATH, '//article//h2//a'):\n",
    "        link = each.get_attribute(\"href\")\n",
    "        master.append(link)    \n",
    "    \n",
    "    time.sleep(pause)\n",
    "    counter+=1\n",
    "    \n",
    "    if counter==501:\n",
    "        break"
   ]
  },
  {
   "cell_type": "code",
   "execution_count": 63,
   "id": "5285f0f0",
   "metadata": {},
   "outputs": [],
   "source": [
    "master\n",
    "final_master=set(master)"
   ]
  },
  {
   "cell_type": "code",
   "execution_count": 12,
   "id": "7f23eb40",
   "metadata": {},
   "outputs": [],
   "source": [
    "pause = 10 \n",
    "rap_df = pd.DataFrame(columns=['Link', 'Paragraph'])"
   ]
  },
  {
   "cell_type": "code",
   "execution_count": 59,
   "id": "b3ce84eb",
   "metadata": {},
   "outputs": [
    {
     "name": "stdout",
     "output_type": "stream",
     "text": [
      "Scraping  https://ashoka.rappler.com/469/impact-happy-hours-june-2023/\n"
     ]
    },
    {
     "name": "stderr",
     "output_type": "stream",
     "text": [
      "/var/folders/j8/_c_8d2dj6jqgrrq7t6t4pz3w0000gn/T/ipykernel_29854/766361469.py:3: DeprecationWarning: executable_path has been deprecated, please pass in a Service object\n",
      "  driver=webdriver.Chrome(driver_path)\n"
     ]
    },
    {
     "ename": "KeyboardInterrupt",
     "evalue": "",
     "output_type": "error",
     "traceback": [
      "\u001b[0;31m---------------------------------------------------------------------------\u001b[0m",
      "\u001b[0;31mKeyboardInterrupt\u001b[0m                         Traceback (most recent call last)",
      "Input \u001b[0;32mIn [59]\u001b[0m, in \u001b[0;36m<cell line: 1>\u001b[0;34m()\u001b[0m\n\u001b[1;32m      3\u001b[0m driver\u001b[38;5;241m=\u001b[39mwebdriver\u001b[38;5;241m.\u001b[39mChrome(driver_path)\n\u001b[1;32m      4\u001b[0m driver\u001b[38;5;241m.\u001b[39mget(link)\n\u001b[0;32m----> 6\u001b[0m \u001b[43mtime\u001b[49m\u001b[38;5;241;43m.\u001b[39;49m\u001b[43msleep\u001b[49m\u001b[43m \u001b[49m\u001b[43m(\u001b[49m\u001b[43mpause\u001b[49m\u001b[43m)\u001b[49m\n\u001b[1;32m      8\u001b[0m checker \u001b[38;5;241m=\u001b[39m \u001b[38;5;28;01mTrue\u001b[39;00m\n\u001b[1;32m      9\u001b[0m paragraphs \u001b[38;5;241m=\u001b[39m []  \n",
      "\u001b[0;31mKeyboardInterrupt\u001b[0m: "
     ]
    }
   ],
   "source": [
    "for link in final_master:\n",
    "    print ('Scraping ', link)\n",
    "    driver=webdriver.Chrome(driver_path)\n",
    "    driver.get(link)\n",
    "    \n",
    "    time.sleep (pause)\n",
    "    \n",
    "    checker = True\n",
    "    paragraphs = []  \n",
    "    while checker: \n",
    "        content = driver.find_element(By.XPATH, '//div[@class=\"post-single__content entry-content\"]')\n",
    "        pars = content.find_elements(By.XPATH, 'p')\n",
    "        for par in pars:\n",
    "            text = par.text.strip()\n",
    "            if text:\n",
    "                paragraphs.append(text)\n",
    "        concat_pars = ' '.join(paragraphs)\n",
    "        checker = False\n",
    "    rap_df = rap_df.append({'Link': link, 'Paragraph': concat_pars}, ignore_index=True)"
   ]
  },
  {
   "cell_type": "code",
   "execution_count": null,
   "id": "98c1f2ee",
   "metadata": {},
   "outputs": [],
   "source": []
  }
 ],
 "metadata": {
  "kernelspec": {
   "display_name": "Python 3 (ipykernel)",
   "language": "python",
   "name": "python3"
  },
  "language_info": {
   "codemirror_mode": {
    "name": "ipython",
    "version": 3
   },
   "file_extension": ".py",
   "mimetype": "text/x-python",
   "name": "python",
   "nbconvert_exporter": "python",
   "pygments_lexer": "ipython3",
   "version": "3.9.12"
  }
 },
 "nbformat": 4,
 "nbformat_minor": 5
}
